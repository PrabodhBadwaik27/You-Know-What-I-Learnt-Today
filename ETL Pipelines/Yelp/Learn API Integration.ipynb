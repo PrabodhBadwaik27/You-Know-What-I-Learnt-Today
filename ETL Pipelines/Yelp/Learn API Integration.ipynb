{
 "cells": [
  {
   "cell_type": "code",
   "execution_count": 36,
   "metadata": {},
   "outputs": [
    {
     "data": {
      "text/plain": [
       "'{\"error\": {\"code\": \"VALIDATION_ERROR\", \"description\": \"\\'XWHi1PX2H4ZXkB_rpslhtvcZ_m8GFimb7WsAnW4IvdztZbEWXHtIdaIwnEBKvmBHqfZwSaCNgLn-RM5qhKW4mTA4gJLBceQBSSpHtHU7PE9Vr9qgcDaEztWj0jBEYXYx\\' is too long\", \"field\": \"client_secret\", \"instance\": \"XWHi1PX2H4ZXkB_rpslhtvcZ_m8GFimb7WsAnW4IvdztZbEWXHtIdaIwnEBKvmBHqfZwSaCNgLn-RM5qhKW4mTA4gJLBceQBSSpHtHU7PE9Vr9qgcDaEztWj0jBEYXYx\"}}'"
      ]
     },
     "execution_count": 36,
     "metadata": {},
     "output_type": "execute_result"
    }
   ],
   "source": [
    "# On trying to use token (Deprecated)\n",
    "token.text"
   ]
  },
  {
   "cell_type": "code",
   "execution_count": 40,
   "metadata": {
    "scrolled": true
   },
   "outputs": [
    {
     "data": {
      "text/plain": [
       "{'error': {'code': 'VALIDATION_ERROR',\n",
       "  'description': 'Authorization is a required parameter.',\n",
       "  'field': 'Authorization',\n",
       "  'instance': None}}"
      ]
     },
     "execution_count": 40,
     "metadata": {},
     "output_type": "execute_result"
    }
   ],
   "source": [
    "# Executed without headers\n",
    "get_biz.json()"
   ]
  },
  {
   "cell_type": "code",
   "execution_count": 42,
   "metadata": {},
   "outputs": [
    {
     "data": {
      "text/plain": [
       "{'error': {'code': 'VALIDATION_ERROR',\n",
       "  'description': 'Please specify a location or a latitude and longitude'}}"
      ]
     },
     "execution_count": 42,
     "metadata": {},
     "output_type": "execute_result"
    }
   ],
   "source": [
    "# Executed without parameter 'location'\n",
    "get_biz.json()"
   ]
  },
  {
   "cell_type": "code",
   "execution_count": null,
   "metadata": {},
   "outputs": [],
   "source": []
  }
 ],
 "metadata": {
  "kernelspec": {
   "display_name": "Python 3",
   "language": "python",
   "name": "python3"
  },
  "language_info": {
   "codemirror_mode": {
    "name": "ipython",
    "version": 3
   },
   "file_extension": ".py",
   "mimetype": "text/x-python",
   "name": "python",
   "nbconvert_exporter": "python",
   "pygments_lexer": "ipython3",
   "version": "3.7.6"
  }
 },
 "nbformat": 4,
 "nbformat_minor": 4
}
