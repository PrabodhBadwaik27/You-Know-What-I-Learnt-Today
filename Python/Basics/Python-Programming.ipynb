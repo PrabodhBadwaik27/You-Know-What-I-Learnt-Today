{
 "cells": [
  {
   "cell_type": "markdown",
   "metadata": {},
   "source": [
    "# Python Programming"
   ]
  },
  {
   "cell_type": "markdown",
   "metadata": {},
   "source": [
    "## Variables: Global and Local Variables"
   ]
  },
  {
   "cell_type": "code",
   "execution_count": 15,
   "metadata": {},
   "outputs": [
    {
     "name": "stdout",
     "output_type": "stream",
     "text": [
      "2 9\n"
     ]
    }
   ],
   "source": [
    "# Global Variable\n",
    "x = 2 \n",
    "def f(a):\n",
    "    # Local Variable\n",
    "    x = a * a \n",
    "    return x\n",
    "y = f(3)\n",
    "print (x, y)"
   ]
  },
  {
   "cell_type": "code",
   "execution_count": 16,
   "metadata": {},
   "outputs": [
    {
     "name": "stdout",
     "output_type": "stream",
     "text": [
      "2 6\n"
     ]
    }
   ],
   "source": [
    "# Global Variable\n",
    "x = 2 \n",
    "def f(a):\n",
    "    # Function uses value of 'global' variable as local copy is not present \n",
    "    y = x * a \n",
    "    return y\n",
    "y = f(3)\n",
    "print (x, y)"
   ]
  },
  {
   "cell_type": "code",
   "execution_count": 17,
   "metadata": {},
   "outputs": [
    {
     "name": "stdout",
     "output_type": "stream",
     "text": [
      "1\n"
     ]
    },
    {
     "ename": "UnboundLocalError",
     "evalue": "local variable 'x' referenced before assignment",
     "output_type": "error",
     "traceback": [
      "\u001b[1;31m---------------------------------------------------------------------------\u001b[0m",
      "\u001b[1;31mUnboundLocalError\u001b[0m                         Traceback (most recent call last)",
      "\u001b[1;32m<ipython-input-17-3244ff7e7198>\u001b[0m in \u001b[0;36m<module>\u001b[1;34m\u001b[0m\n\u001b[0;32m      5\u001b[0m     \u001b[1;32mreturn\u001b[0m \u001b[0mx\u001b[0m \u001b[1;33m+\u001b[0m \u001b[0my\u001b[0m\u001b[1;33m\u001b[0m\u001b[1;33m\u001b[0m\u001b[0m\n\u001b[0;32m      6\u001b[0m \u001b[0mprint\u001b[0m\u001b[1;33m(\u001b[0m\u001b[0mx\u001b[0m\u001b[1;33m)\u001b[0m\u001b[1;33m\u001b[0m\u001b[1;33m\u001b[0m\u001b[0m\n\u001b[1;32m----> 7\u001b[1;33m \u001b[0mprint\u001b[0m\u001b[1;33m(\u001b[0m\u001b[0mf\u001b[0m\u001b[1;33m(\u001b[0m\u001b[1;33m)\u001b[0m\u001b[1;33m)\u001b[0m\u001b[1;33m\u001b[0m\u001b[1;33m\u001b[0m\u001b[0m\n\u001b[0m\u001b[0;32m      8\u001b[0m \u001b[0mprint\u001b[0m\u001b[1;33m(\u001b[0m\u001b[0mx\u001b[0m\u001b[1;33m)\u001b[0m\u001b[1;33m\u001b[0m\u001b[1;33m\u001b[0m\u001b[0m\n",
      "\u001b[1;32m<ipython-input-17-3244ff7e7198>\u001b[0m in \u001b[0;36mf\u001b[1;34m()\u001b[0m\n\u001b[0;32m      1\u001b[0m \u001b[0mx\u001b[0m \u001b[1;33m=\u001b[0m \u001b[1;36m1\u001b[0m\u001b[1;33m\u001b[0m\u001b[1;33m\u001b[0m\u001b[0m\n\u001b[0;32m      2\u001b[0m \u001b[1;32mdef\u001b[0m \u001b[0mf\u001b[0m\u001b[1;33m(\u001b[0m\u001b[1;33m)\u001b[0m\u001b[1;33m:\u001b[0m\u001b[1;33m\u001b[0m\u001b[1;33m\u001b[0m\u001b[0m\n\u001b[1;32m----> 3\u001b[1;33m     \u001b[0my\u001b[0m \u001b[1;33m=\u001b[0m \u001b[0mx\u001b[0m\u001b[1;33m\u001b[0m\u001b[1;33m\u001b[0m\u001b[0m\n\u001b[0m\u001b[0;32m      4\u001b[0m     \u001b[0mx\u001b[0m \u001b[1;33m=\u001b[0m \u001b[1;36m2\u001b[0m\u001b[1;33m\u001b[0m\u001b[1;33m\u001b[0m\u001b[0m\n\u001b[0;32m      5\u001b[0m     \u001b[1;32mreturn\u001b[0m \u001b[0mx\u001b[0m \u001b[1;33m+\u001b[0m \u001b[0my\u001b[0m\u001b[1;33m\u001b[0m\u001b[1;33m\u001b[0m\u001b[0m\n",
      "\u001b[1;31mUnboundLocalError\u001b[0m: local variable 'x' referenced before assignment"
     ]
    }
   ],
   "source": [
    "x = 1\n",
    "def f():\n",
    "    y = x\n",
    "    x = 2\n",
    "    return x + y\n",
    "print(x)\n",
    "print(f())\n",
    "print(x)"
   ]
  },
  {
   "cell_type": "markdown",
   "metadata": {},
   "source": [
    "## Data Structures"
   ]
  },
  {
   "cell_type": "markdown",
   "metadata": {},
   "source": [
    "## Lists"
   ]
  },
  {
   "cell_type": "markdown",
   "metadata": {},
   "source": [
    "### range function to generate list"
   ]
  },
  {
   "cell_type": "markdown",
   "metadata": {},
   "source": [
    "range(lower_bound, upper_bound, step)\n",
    "\n",
    "optional:\n",
    "    lower_bound; default = 0\n",
    "    step; default = 1"
   ]
  },
  {
   "cell_type": "code",
   "execution_count": 12,
   "metadata": {},
   "outputs": [
    {
     "name": "stdout",
     "output_type": "stream",
     "text": [
      "1\n",
      "3\n"
     ]
    }
   ],
   "source": [
    "a = range(1,5,2)\n",
    "\n",
    "for i in a:\n",
    "    print(i)"
   ]
  },
  {
   "cell_type": "markdown",
   "metadata": {},
   "source": [
    "#### List Slicing"
   ]
  },
  {
   "cell_type": "raw",
   "metadata": {},
   "source": [
    "x[index]\n",
    "x[start_index:end_index]\n",
    "x[start_index:end_index:step]"
   ]
  },
  {
   "cell_type": "code",
   "execution_count": 7,
   "metadata": {},
   "outputs": [
    {
     "data": {
      "text/plain": [
       "[0, 2, 4]"
      ]
     },
     "execution_count": 7,
     "metadata": {},
     "output_type": "execute_result"
    }
   ],
   "source": [
    "x = [0, 1, 2, 3, 4, 5, 6]\n",
    "x[0:5:2]"
   ]
  },
  {
   "cell_type": "markdown",
   "metadata": {},
   "source": [
    "#### Reverse List with Slicing"
   ]
  },
  {
   "cell_type": "code",
   "execution_count": 13,
   "metadata": {},
   "outputs": [
    {
     "data": {
      "text/plain": [
       "[6, 5, 4, 3, 2, 1, 0]"
      ]
     },
     "execution_count": 13,
     "metadata": {},
     "output_type": "execute_result"
    }
   ],
   "source": [
    "x[::-1]"
   ]
  },
  {
   "cell_type": "markdown",
   "metadata": {},
   "source": [
    "#### .sort() and sorted() functions\n",
    "\n",
    "list.sort(reverse=True|False, key=myFunc)\n",
    "    returns: None, sorts the existing lists\n",
    "\n",
    "sorted(iterable, key=myFunc, reverse=reverse)\n",
    "    returns: new sorted list"
   ]
  },
  {
   "cell_type": "markdown",
   "metadata": {},
   "source": [
    "## Dictionaries"
   ]
  },
  {
   "cell_type": "code",
   "execution_count": 44,
   "metadata": {},
   "outputs": [],
   "source": [
    "a = {'a':1, 'b':2, 'c':3}"
   ]
  },
  {
   "cell_type": "code",
   "execution_count": 46,
   "metadata": {},
   "outputs": [
    {
     "name": "stdout",
     "output_type": "stream",
     "text": [
      "dict_keys(['a', 'b', 'c'])\n",
      "dict_values([1, 2, 3])\n",
      "dict_items([('a', 1), ('b', 2), ('c', 3)])\n"
     ]
    }
   ],
   "source": [
    "print(a.keys())\n",
    "print(a.values())\n",
    "print(a.items())"
   ]
  },
  {
   "cell_type": "code",
   "execution_count": 47,
   "metadata": {},
   "outputs": [
    {
     "name": "stdout",
     "output_type": "stream",
     "text": [
      "a : 1\n",
      "b : 2\n",
      "c : 3\n"
     ]
    }
   ],
   "source": [
    "for key, value in a.items():\n",
    "    print(key, \":\", value)"
   ]
  },
  {
   "cell_type": "code",
   "execution_count": 50,
   "metadata": {},
   "outputs": [
    {
     "data": {
      "text/plain": [
       "True"
      ]
     },
     "execution_count": 50,
     "metadata": {},
     "output_type": "execute_result"
    }
   ],
   "source": [
    "'a' in a"
   ]
  },
  {
   "cell_type": "code",
   "execution_count": 51,
   "metadata": {},
   "outputs": [
    {
     "data": {
      "text/plain": [
       "1"
      ]
     },
     "execution_count": 51,
     "metadata": {},
     "output_type": "execute_result"
    }
   ],
   "source": [
    "a.get('a')"
   ]
  },
  {
   "cell_type": "markdown",
   "metadata": {},
   "source": [
    "#### Write a function valuesort to sort values of a dictionary based on the key."
   ]
  },
  {
   "cell_type": "code",
   "execution_count": 58,
   "metadata": {},
   "outputs": [
    {
     "data": {
      "text/plain": [
       "[1, 2, 3]"
      ]
     },
     "execution_count": 58,
     "metadata": {},
     "output_type": "execute_result"
    }
   ],
   "source": [
    "lst = list(a.values())\n",
    "lst.sort()\n",
    "lst"
   ]
  },
  {
   "cell_type": "markdown",
   "metadata": {},
   "source": [
    "## Functions"
   ]
  },
  {
   "cell_type": "code",
   "execution_count": 18,
   "metadata": {},
   "outputs": [
    {
     "name": "stdout",
     "output_type": "stream",
     "text": [
      "False\n",
      "True\n"
     ]
    }
   ],
   "source": [
    "class Dog:\n",
    "    # Class attribute\n",
    "    species = \"Canis familiaris\"\n",
    "\n",
    "    def __init__(self, name, age):\n",
    "        self.name = name\n",
    "        self.age = age\n",
    "\n",
    "a = Dog('Rocky', 25)\n",
    "b = Dog('Kanu', 26)\n",
    "\n",
    "print(a == b)\n",
    "print(type(a) == type(b))"
   ]
  },
  {
   "cell_type": "markdown",
   "metadata": {},
   "source": [
    "## Lambda Functions"
   ]
  },
  {
   "cell_type": "markdown",
   "metadata": {},
   "source": [
    "### How to define a Lambda function"
   ]
  },
  {
   "cell_type": "code",
   "execution_count": null,
   "metadata": {},
   "outputs": [],
   "source": [
    "def myFunc(x):\n",
    "    return x+1"
   ]
  },
  {
   "cell_type": "code",
   "execution_count": null,
   "metadata": {},
   "outputs": [],
   "source": [
    "lambda x: x+1"
   ]
  },
  {
   "cell_type": "markdown",
   "metadata": {},
   "source": [
    "### How to use Lambda functions inside another function"
   ]
  },
  {
   "cell_type": "markdown",
   "metadata": {},
   "source": [
    "#### Use the sort() function to sort the list in descending order with lambda."
   ]
  },
  {
   "cell_type": "code",
   "execution_count": 4,
   "metadata": {},
   "outputs": [
    {
     "name": "stdout",
     "output_type": "stream",
     "text": [
      "[9, 8, 6, 5]\n"
     ]
    }
   ],
   "source": [
    "lst = [9, 5, 8, 6]\n",
    "lst.sort(key = lambda x: 1/x)\n",
    "\n",
    "print(lst)"
   ]
  },
  {
   "cell_type": "markdown",
   "metadata": {},
   "source": [
    "#### This time use the sorted() function to sort the list in ascending order with lambda."
   ]
  },
  {
   "cell_type": "code",
   "execution_count": 6,
   "metadata": {},
   "outputs": [
    {
     "data": {
      "text/plain": [
       "[5, 6, 8, 9]"
      ]
     },
     "execution_count": 6,
     "metadata": {},
     "output_type": "execute_result"
    }
   ],
   "source": [
    "sorted(lst, key = lambda x: x)"
   ]
  },
  {
   "cell_type": "markdown",
   "metadata": {},
   "source": [
    "## Object Oriented Programming"
   ]
  },
  {
   "cell_type": "markdown",
   "metadata": {},
   "source": [
    "### Class Variables"
   ]
  },
  {
   "cell_type": "code",
   "execution_count": 86,
   "metadata": {},
   "outputs": [],
   "source": [
    "class Student:\n",
    "    # class variables\n",
    "    school_name = 'ABC School'\n",
    "\n",
    "    # constructor\n",
    "    def __init__(self, name, age):\n",
    "        # instance variables\n",
    "        self.name = name\n",
    "        self.age = age"
   ]
  },
  {
   "cell_type": "code",
   "execution_count": 92,
   "metadata": {},
   "outputs": [
    {
     "name": "stdout",
     "output_type": "stream",
     "text": [
      "Name: Jeff, Age: 16, School: ABC School\n"
     ]
    }
   ],
   "source": [
    "s1 = Student(\"Jeff\", 16)\n",
    "print(\"Name: {0}, Age: {1}, School: {2}\".format(s1.name, s1.age, Student.school_name))"
   ]
  },
  {
   "cell_type": "code",
   "execution_count": 93,
   "metadata": {},
   "outputs": [
    {
     "name": "stdout",
     "output_type": "stream",
     "text": [
      "Name: Bayes, Age: 17, School: ABC School\n"
     ]
    }
   ],
   "source": [
    "s2 = Student(\"Bayes\", 17)\n",
    "print(\"Name: {0}, Age: {1}, School: {2}\".format(s2.name, s2.age, s2.school_name))"
   ]
  },
  {
   "cell_type": "code",
   "execution_count": 95,
   "metadata": {},
   "outputs": [
    {
     "name": "stdout",
     "output_type": "stream",
     "text": [
      "Name: Clay, Age: 18, School: XYZ School\n"
     ]
    }
   ],
   "source": [
    "s3 = Student(\"Clay\", 17)\n",
    "s3.age = 18\n",
    "s3.school_name = \"XYZ School\"\n",
    "print(\"Name: {0}, Age: {1}, School: {2}\".format(s3.name, s3.age, s3.school_name))"
   ]
  },
  {
   "cell_type": "code",
   "execution_count": 98,
   "metadata": {},
   "outputs": [
    {
     "data": {
      "text/plain": [
       "'ABC School'"
      ]
     },
     "execution_count": 98,
     "metadata": {},
     "output_type": "execute_result"
    }
   ],
   "source": [
    "s2.school_name"
   ]
  },
  {
   "cell_type": "code",
   "execution_count": 96,
   "metadata": {},
   "outputs": [
    {
     "data": {
      "text/plain": [
       "'ABC School'"
      ]
     },
     "execution_count": 96,
     "metadata": {},
     "output_type": "execute_result"
    }
   ],
   "source": [
    "Student.school_name"
   ]
  },
  {
   "cell_type": "code",
   "execution_count": 99,
   "metadata": {},
   "outputs": [],
   "source": [
    "Student.school_name = \"PQR School\""
   ]
  },
  {
   "cell_type": "code",
   "execution_count": 100,
   "metadata": {
    "scrolled": true
   },
   "outputs": [
    {
     "name": "stdout",
     "output_type": "stream",
     "text": [
      "Student:  PQR School\n",
      "Jeff:  PQR School\n",
      "Bayes:  PQR School\n",
      "Clay:  XYZ School\n"
     ]
    }
   ],
   "source": [
    "print(\"Student: \", Student.school_name)\n",
    "print(\"Jeff: \", s1.school_name)\n",
    "print(\"Bayes: \", s2.school_name)\n",
    "print(\"Clay: \", s3.school_name)"
   ]
  },
  {
   "cell_type": "code",
   "execution_count": 103,
   "metadata": {},
   "outputs": [
    {
     "data": {
      "text/plain": [
       "__main__.Student"
      ]
     },
     "execution_count": 103,
     "metadata": {},
     "output_type": "execute_result"
    }
   ],
   "source": [
    "s1.__class__"
   ]
  },
  {
   "cell_type": "markdown",
   "metadata": {},
   "source": [
    "### Class Methods and Static Methods"
   ]
  },
  {
   "cell_type": "markdown",
   "metadata": {},
   "source": [
    "Using the 'cls' argument in the margherita and prosciutto factory methods instead of calling the Pizza constructor directly.  \n",
    "They all use the same __init__ constructor internally and simply provide a shortcut for remembering all of the various ingredients.  \n",
    "Python only allows one __init__ method per class. Using class methods it’s possible to add as many alternative constructors as necessary."
   ]
  },
  {
   "cell_type": "code",
   "execution_count": 104,
   "metadata": {},
   "outputs": [],
   "source": [
    "class Pizza:\n",
    "    def __init__(self, ingredients):\n",
    "        self.ingredients = ingredients\n",
    "\n",
    "    def __repr__(self):\n",
    "        return f'Pizza({self.ingredients!r})'\n",
    "\n",
    "    @classmethod\n",
    "    def margherita(cls):\n",
    "        return cls(['mozzarella', 'tomatoes'])\n",
    "\n",
    "    @classmethod\n",
    "    def prosciutto(cls):\n",
    "        return cls(['mozzarella', 'tomatoes', 'ham'])"
   ]
  },
  {
   "cell_type": "code",
   "execution_count": 105,
   "metadata": {},
   "outputs": [
    {
     "data": {
      "text/plain": [
       "Pizza(['mozzarella', 'tomatoes', 'ham'])"
      ]
     },
     "execution_count": 105,
     "metadata": {},
     "output_type": "execute_result"
    }
   ],
   "source": [
    "# Pizza.margherita()\n",
    "Pizza.prosciutto()"
   ]
  },
  {
   "cell_type": "markdown",
   "metadata": {},
   "source": [
    "### Deleting Objects and Object Properties"
   ]
  },
  {
   "cell_type": "code",
   "execution_count": null,
   "metadata": {},
   "outputs": [],
   "source": [
    "del obj.property\n",
    "del obj"
   ]
  },
  {
   "cell_type": "markdown",
   "metadata": {},
   "source": [
    "### Encapsulation"
   ]
  },
  {
   "cell_type": "markdown",
   "metadata": {},
   "source": [
    "#### Name Mangling to Access Private Class Attributes"
   ]
  },
  {
   "cell_type": "code",
   "execution_count": 1,
   "metadata": {},
   "outputs": [],
   "source": [
    "class Employee:\n",
    "    def __init__(self, name, salary):\n",
    "        self.name = name\n",
    "        # protected variable\n",
    "        \n",
    "        # private variable: salary\n",
    "        self.__salary = salary\n",
    "    \n",
    "    # method 'get_salary' to access private attribute 'salary' of Employee\n",
    "    def get_salary(self):\n",
    "        print(self.name, \"'s Salary: \", self.__salary)"
   ]
  },
  {
   "cell_type": "code",
   "execution_count": 2,
   "metadata": {},
   "outputs": [],
   "source": [
    "emp1 = Employee(\"Prabodh\", 28000)"
   ]
  },
  {
   "cell_type": "code",
   "execution_count": 3,
   "metadata": {},
   "outputs": [
    {
     "data": {
      "text/plain": [
       "'Prabodh'"
      ]
     },
     "execution_count": 3,
     "metadata": {},
     "output_type": "execute_result"
    }
   ],
   "source": [
    "# Access Public Attribute\n",
    "emp1.name"
   ]
  },
  {
   "cell_type": "code",
   "execution_count": 5,
   "metadata": {},
   "outputs": [
    {
     "name": "stdout",
     "output_type": "stream",
     "text": [
      "Prabodh 's Salary:  28000\n"
     ]
    }
   ],
   "source": [
    "# Access Private Attribute: Using public method\n",
    "emp1.get_salary()"
   ]
  },
  {
   "cell_type": "code",
   "execution_count": 9,
   "metadata": {},
   "outputs": [
    {
     "data": {
      "text/plain": [
       "28000"
      ]
     },
     "execution_count": 9,
     "metadata": {},
     "output_type": "execute_result"
    }
   ],
   "source": [
    "# Access Private Attribute: Using Name Mangling\n",
    "emp1._Employee__salary"
   ]
  },
  {
   "cell_type": "markdown",
   "metadata": {},
   "source": [
    "### Inheritance"
   ]
  },
  {
   "cell_type": "code",
   "execution_count": 70,
   "metadata": {},
   "outputs": [
    {
     "name": "stdout",
     "output_type": "stream",
     "text": [
      "A B\n",
      "A B\n"
     ]
    }
   ],
   "source": [
    "class A:\n",
    "    def f(self):\n",
    "        return self.g()\n",
    "\n",
    "    def g(self):\n",
    "        return 'A'\n",
    "\n",
    "class B(A):\n",
    "    def g(self):\n",
    "        return 'B'\n",
    "\n",
    "a = A()\n",
    "b = B()\n",
    "print(a.f(), b.f())\n",
    "print(a.g(), b.g())"
   ]
  },
  {
   "cell_type": "markdown",
   "metadata": {},
   "source": [
    "#### Multiple Inheritence"
   ]
  },
  {
   "cell_type": "code",
   "execution_count": 81,
   "metadata": {},
   "outputs": [],
   "source": [
    "class Person:\n",
    "    def __init__(self, blood_group, eye_color, hair_color):\n",
    "        self.blood_group = blood_group\n",
    "        self.eye_color = eye_color\n",
    "        self.hair_color = hair_color\n",
    "        \n",
    "    def __str__(self):\n",
    "        return \"{0}, {1}, {2}\".format(self.blood_group, self.eye_color, self.hair_color)"
   ]
  },
  {
   "cell_type": "code",
   "execution_count": 82,
   "metadata": {},
   "outputs": [
    {
     "name": "stdout",
     "output_type": "stream",
     "text": [
      "B+, blue, black\n"
     ]
    }
   ],
   "source": [
    "poi = Person(\"B+\", \"blue\", \"black\")\n",
    "print(poi)"
   ]
  },
  {
   "cell_type": "code",
   "execution_count": 83,
   "metadata": {},
   "outputs": [],
   "source": [
    "class Mother(Person):\n",
    "    pass"
   ]
  },
  {
   "cell_type": "code",
   "execution_count": 84,
   "metadata": {},
   "outputs": [
    {
     "name": "stdout",
     "output_type": "stream",
     "text": [
      "A+, black, black\n"
     ]
    }
   ],
   "source": [
    "mother = Mother(\"A+\", \"black\", \"black\")\n",
    "print(mother)"
   ]
  },
  {
   "cell_type": "code",
   "execution_count": 86,
   "metadata": {},
   "outputs": [],
   "source": [
    "class Father(Person):\n",
    "    pass"
   ]
  },
  {
   "cell_type": "code",
   "execution_count": 87,
   "metadata": {},
   "outputs": [
    {
     "name": "stdout",
     "output_type": "stream",
     "text": [
      "B+, black, brown\n"
     ]
    }
   ],
   "source": [
    "father = Father(\"B+\", \"black\", \"brown\")\n",
    "print(father)"
   ]
  },
  {
   "cell_type": "code",
   "execution_count": 88,
   "metadata": {},
   "outputs": [],
   "source": [
    "class Child(Mother, Father):\n",
    "    pass"
   ]
  },
  {
   "cell_type": "markdown",
   "metadata": {},
   "source": [
    "### Practice Problems"
   ]
  },
  {
   "cell_type": "markdown",
   "metadata": {},
   "source": [
    "#### Create a Vehicle class with max_speed and mileage instance attributes"
   ]
  },
  {
   "cell_type": "code",
   "execution_count": 78,
   "metadata": {},
   "outputs": [],
   "source": [
    "class Vehicle:\n",
    "    def __init__(self, max_speed, mileage):\n",
    "        self.max_speed = max_speed\n",
    "        self.mileage = mileage\n",
    "    \n",
    "    def __str__(self):\n",
    "        return (\"Car has maximum speed of {0} km/hr. \\nAnd mileage is {1} km/litre\".format(self.max_speed, self.mileage))"
   ]
  },
  {
   "cell_type": "code",
   "execution_count": 79,
   "metadata": {},
   "outputs": [
    {
     "name": "stdout",
     "output_type": "stream",
     "text": [
      "Car has maximum speed of 40 km/hr. \n",
      "And mileage is 65 km/litre\n"
     ]
    }
   ],
   "source": [
    "car = Vehicle(40, 65)\n",
    "print(car)"
   ]
  },
  {
   "cell_type": "markdown",
   "metadata": {},
   "source": [
    "#### Create a Vehicle class without any variables and methods"
   ]
  },
  {
   "cell_type": "code",
   "execution_count": 83,
   "metadata": {},
   "outputs": [],
   "source": [
    "class Vehicle:\n",
    "    pass"
   ]
  },
  {
   "cell_type": "markdown",
   "metadata": {},
   "source": [
    "#### Create a child class Bus that will inherit all of the variables and methods of the Vehicle class"
   ]
  },
  {
   "cell_type": "code",
   "execution_count": 11,
   "metadata": {},
   "outputs": [],
   "source": [
    "class Vehicle:\n",
    "    def __init__(self, name, max_speed, mileage):\n",
    "        self.name = name\n",
    "        self.max_speed = max_speed\n",
    "        self.mileage = mileage"
   ]
  },
  {
   "cell_type": "code",
   "execution_count": 18,
   "metadata": {},
   "outputs": [],
   "source": [
    "class Bus(Vehicle):\n",
    "    def __str__(self):\n",
    "        return \"Name: {0} \\nMax Speed: {1} km/h \\nMileage: {2} km/lt\".format(self.name, self.max_speed, self.mileage)"
   ]
  },
  {
   "cell_type": "code",
   "execution_count": 19,
   "metadata": {},
   "outputs": [
    {
     "name": "stdout",
     "output_type": "stream",
     "text": [
      "Name: ST \n",
      "Max Speed: 60 km/h \n",
      "Mileage: 16 km/lt\n"
     ]
    }
   ],
   "source": [
    "st = Bus(\"ST\", \"60\", \"16\")\n",
    "print(st)"
   ]
  },
  {
   "cell_type": "markdown",
   "metadata": {},
   "source": [
    "#### Create a Bus class that inherits from the Vehicle class. Give the capacity argument of Bus.seating_capacity() a default value of 50."
   ]
  },
  {
   "cell_type": "code",
   "execution_count": 20,
   "metadata": {},
   "outputs": [],
   "source": [
    "class Vehicle:\n",
    "    def __init__(self, name, max_speed, mileage):\n",
    "        self.name = name\n",
    "        self.max_speed = max_speed\n",
    "        self.mileage = mileage\n",
    "\n",
    "    def seating_capacity(self, capacity):\n",
    "        return f\"The seating capacity of a {self.name} is {capacity} passengers\""
   ]
  },
  {
   "cell_type": "code",
   "execution_count": 28,
   "metadata": {},
   "outputs": [],
   "source": [
    "class Bus(Vehicle):\n",
    "    def seating_capacity(self, capacity=50):\n",
    "        return super().seating_capacity(capacity)"
   ]
  },
  {
   "cell_type": "code",
   "execution_count": 25,
   "metadata": {},
   "outputs": [],
   "source": [
    "bus1 = Bus(\"ST\", 50, 16)"
   ]
  },
  {
   "cell_type": "code",
   "execution_count": 26,
   "metadata": {},
   "outputs": [
    {
     "name": "stdout",
     "output_type": "stream",
     "text": [
      "ST 50 16\n"
     ]
    }
   ],
   "source": [
    "print(bus1.name, bus1.max_speed, bus1.mileage)"
   ]
  },
  {
   "cell_type": "code",
   "execution_count": 29,
   "metadata": {},
   "outputs": [
    {
     "data": {
      "text/plain": [
       "'The seating capacity of a ST is 50 passengers'"
      ]
     },
     "execution_count": 29,
     "metadata": {},
     "output_type": "execute_result"
    }
   ],
   "source": [
    "bus1.seating_capacity()"
   ]
  },
  {
   "cell_type": "markdown",
   "metadata": {},
   "source": [
    "#### Create a Bus and Car child class that inherits from the Vehicle class. The default fare charge of any vehicle is 9000/seating capacity per passenger. If Vehicle is Bus instance, we need to add an extra 10% on full fare as a maintenance charge. So total fare for bus instance will become the final amount = total fare + 10% of the total fare.\n",
    "#### If Vehicle is Car instance, we need to add an extra 18% on full fare as a maintenance charge."
   ]
  },
  {
   "cell_type": "code",
   "execution_count": 75,
   "metadata": {},
   "outputs": [],
   "source": [
    "class Vehicle:\n",
    "    def __init__(self, name, max_speed, mileage):\n",
    "        self.name = name\n",
    "        self.max_speed = max_speed\n",
    "        self.mileage = mileage\n",
    "        \n",
    "    def seating_capacity(self, capacity):\n",
    "        print(\"{0} has a seating capacity of {1} passengers\".format(self.name, capacity))\n",
    "        return capacity\n",
    "    \n",
    "    def tax(self, percent_tax):\n",
    "        print(\"{0} collects {1}% tax on fare\".format(self.name, percent_tax))\n",
    "        return percent_tax\n",
    "    \n",
    "    def total_fare(self):\n",
    "        fare = 9000/self.seating_capacity()\n",
    "        total_fare =  fare + self.tax()*fare/100\n",
    "        return \"{0} collects total fare of Rs. {1} from each passenger\".format(self.name, total_fare)\n",
    "    \n",
    "    def __str__(self):\n",
    "        return \"{2} has maximum speed of {0} km/hr. \\nAnd mileage is {1} km/litre\".format(self.max_speed, self.mileage, self.name)"
   ]
  },
  {
   "cell_type": "code",
   "execution_count": 76,
   "metadata": {},
   "outputs": [],
   "source": [
    "class Bus(Vehicle):\n",
    "    def seating_capacity(self, capacity=40):\n",
    "        return super().seating_capacity(capacity)\n",
    "    \n",
    "    def tax(self, percent_tax=10):\n",
    "        return super().tax(percent_tax)"
   ]
  },
  {
   "cell_type": "code",
   "execution_count": 77,
   "metadata": {},
   "outputs": [
    {
     "name": "stdout",
     "output_type": "stream",
     "text": [
      "Satvahana has maximum speed of 50 km/hr. \n",
      "And mileage is 16 km/litre\n"
     ]
    }
   ],
   "source": [
    "bus1 = Bus(\"Satvahana\", 50, 16)\n",
    "print(bus1)"
   ]
  },
  {
   "cell_type": "code",
   "execution_count": 78,
   "metadata": {},
   "outputs": [
    {
     "name": "stdout",
     "output_type": "stream",
     "text": [
      "Satvahana has a seating capacity of 40 passengers\n"
     ]
    },
    {
     "data": {
      "text/plain": [
       "40"
      ]
     },
     "execution_count": 78,
     "metadata": {},
     "output_type": "execute_result"
    }
   ],
   "source": [
    "bus1.seating_capacity()"
   ]
  },
  {
   "cell_type": "code",
   "execution_count": 79,
   "metadata": {},
   "outputs": [
    {
     "name": "stdout",
     "output_type": "stream",
     "text": [
      "Satvahana collects 10% tax on fare\n"
     ]
    },
    {
     "data": {
      "text/plain": [
       "10"
      ]
     },
     "execution_count": 79,
     "metadata": {},
     "output_type": "execute_result"
    }
   ],
   "source": [
    "bus1.tax()"
   ]
  },
  {
   "cell_type": "code",
   "execution_count": 80,
   "metadata": {},
   "outputs": [
    {
     "name": "stdout",
     "output_type": "stream",
     "text": [
      "Satvahana has a seating capacity of 40 passengers\n",
      "Satvahana collects 10% tax on fare\n"
     ]
    },
    {
     "data": {
      "text/plain": [
       "'Satvahana collects total fare of Rs. 247.5 from each passenger'"
      ]
     },
     "execution_count": 80,
     "metadata": {},
     "output_type": "execute_result"
    }
   ],
   "source": [
    "bus1.total_fare()"
   ]
  },
  {
   "cell_type": "markdown",
   "metadata": {},
   "source": [
    "#### Determine which class a given Bus object belongs to"
   ]
  },
  {
   "cell_type": "code",
   "execution_count": 36,
   "metadata": {},
   "outputs": [
    {
     "name": "stdout",
     "output_type": "stream",
     "text": [
      "<class '__main__.Bus'>\n",
      "<class '__main__.Bus'>\n"
     ]
    }
   ],
   "source": [
    "print(type(bus1))\n",
    "print(bus1.__class__)"
   ]
  },
  {
   "cell_type": "markdown",
   "metadata": {},
   "source": [
    "#### Define property that should have the same value for every class instance"
   ]
  },
  {
   "cell_type": "code",
   "execution_count": 107,
   "metadata": {},
   "outputs": [],
   "source": [
    "class Vehicle:\n",
    "    color = \"White\"\n",
    "    def __init__(self, name, max_speed, mileage):\n",
    "        self.name = name\n",
    "        self.max_speed = max_speed\n",
    "        self.mileage = mileage\n",
    "\n",
    "class Bus(Vehicle):\n",
    "    pass\n",
    "\n",
    "class Car(Vehicle):\n",
    "    pass"
   ]
  },
  {
   "cell_type": "code",
   "execution_count": 111,
   "metadata": {},
   "outputs": [],
   "source": [
    "c1 = Car(\"Dezire\", 120, 25)"
   ]
  },
  {
   "cell_type": "code",
   "execution_count": 112,
   "metadata": {},
   "outputs": [
    {
     "data": {
      "text/plain": [
       "'Dezire'"
      ]
     },
     "execution_count": 112,
     "metadata": {},
     "output_type": "execute_result"
    }
   ],
   "source": [
    "c1.name"
   ]
  },
  {
   "cell_type": "code",
   "execution_count": 113,
   "metadata": {},
   "outputs": [
    {
     "data": {
      "text/plain": [
       "'White'"
      ]
     },
     "execution_count": 113,
     "metadata": {},
     "output_type": "execute_result"
    }
   ],
   "source": [
    "c1.color"
   ]
  },
  {
   "cell_type": "code",
   "execution_count": null,
   "metadata": {},
   "outputs": [],
   "source": [
    "Vehicle.color"
   ]
  },
  {
   "cell_type": "markdown",
   "metadata": {},
   "source": [
    "## Exception Handling"
   ]
  },
  {
   "cell_type": "markdown",
   "metadata": {},
   "source": [
    "### Syntax"
   ]
  },
  {
   "cell_type": "code",
   "execution_count": null,
   "metadata": {},
   "outputs": [],
   "source": [
    "try:\n",
    "    # Always executed as desired operation\n",
    "    pass\n",
    "except [exception as e]:\n",
    "    # Executed if exception is encountered\n",
    "    pass\n",
    "else:\n",
    "    # Executed iff exception is NOT encountered\n",
    "    pass\n",
    "finally:\n",
    "    # Executed irrespective of whether exception has occurred\n",
    "    pass"
   ]
  },
  {
   "cell_type": "code",
   "execution_count": 92,
   "metadata": {},
   "outputs": [
    {
     "name": "stdout",
     "output_type": "stream",
     "text": [
      "a\n",
      "d\n"
     ]
    }
   ],
   "source": [
    "def f():\n",
    "    try:\n",
    "        print(\"a\")\n",
    "        return\n",
    "    except:\n",
    "        print(\"b\")\n",
    "    else:\n",
    "        print(\"c\")\n",
    "    finally:\n",
    "        print(\"d\")\n",
    "\n",
    "f()"
   ]
  },
  {
   "cell_type": "markdown",
   "metadata": {},
   "source": [
    "## Miscellaneous"
   ]
  },
  {
   "cell_type": "markdown",
   "metadata": {},
   "source": [
    "### List Comprehension"
   ]
  },
  {
   "cell_type": "markdown",
   "metadata": {},
   "source": [
    "List Comprehension is the concise way to create a list."
   ]
  },
  {
   "cell_type": "code",
   "execution_count": 32,
   "metadata": {},
   "outputs": [],
   "source": [
    "lst = range(0, 10)\n",
    "copy_lst = [x for x in lst]"
   ]
  },
  {
   "cell_type": "code",
   "execution_count": 33,
   "metadata": {},
   "outputs": [
    {
     "data": {
      "text/plain": [
       "[0, 1, 2, 3, 4, 5, 6, 7, 8, 9]"
      ]
     },
     "execution_count": 33,
     "metadata": {},
     "output_type": "execute_result"
    }
   ],
   "source": [
    "copy_lst"
   ]
  },
  {
   "cell_type": "markdown",
   "metadata": {},
   "source": [
    "#### Find all Pythagorean triplets using numbers below 25. (x, y, z) is a called pythagorean triplet if x*x + y*y == z*z"
   ]
  },
  {
   "cell_type": "code",
   "execution_count": 39,
   "metadata": {},
   "outputs": [],
   "source": [
    "py_tri = [(x, y, z) for x in range(1, 25) for y in range(x, 25) for z in range(y, 25) if x*x + y*y == z*z]"
   ]
  },
  {
   "cell_type": "code",
   "execution_count": 40,
   "metadata": {},
   "outputs": [
    {
     "data": {
      "text/plain": [
       "{(3, 4, 5), (5, 12, 13), (6, 8, 10), (8, 15, 17), (9, 12, 15), (12, 16, 20)}"
      ]
     },
     "execution_count": 40,
     "metadata": {},
     "output_type": "execute_result"
    }
   ],
   "source": [
    "set(py_tri)"
   ]
  },
  {
   "cell_type": "markdown",
   "metadata": {},
   "source": [
    "#### Provide an implementation for zip function using list comprehensions."
   ]
  },
  {
   "cell_type": "code",
   "execution_count": 43,
   "metadata": {},
   "outputs": [
    {
     "name": "stdout",
     "output_type": "stream",
     "text": [
      "[('a', 1), ('b', 2), ('c', 3)]\n"
     ]
    }
   ],
   "source": [
    "a = ['a', 'b', 'c']\n",
    "b = [1, 2, 3]\n",
    "\n",
    "c = [(x, y) for x, y in zip(a, b)]\n",
    "print(c)"
   ]
  },
  {
   "cell_type": "markdown",
   "metadata": {},
   "source": [
    "### 'in' "
   ]
  },
  {
   "cell_type": "markdown",
   "metadata": {},
   "source": [
    " - To check the availability of item in list.\n",
    " - Also, a string can be checked for a substring using in operator"
   ]
  },
  {
   "cell_type": "code",
   "execution_count": 29,
   "metadata": {},
   "outputs": [
    {
     "data": {
      "text/plain": [
       "True"
      ]
     },
     "execution_count": 29,
     "metadata": {},
     "output_type": "execute_result"
    }
   ],
   "source": [
    "\"hell\" in \"hello\""
   ]
  },
  {
   "cell_type": "markdown",
   "metadata": {},
   "source": [
    "### 'zip'"
   ]
  },
  {
   "cell_type": "markdown",
   "metadata": {},
   "source": [
    "- It combines two lists in list of pairs. \n",
    "- Length of zip is equal to length of shortest list.\n",
    "- It is handy when we want to iterate over two lists together."
   ]
  },
  {
   "cell_type": "code",
   "execution_count": 104,
   "metadata": {},
   "outputs": [
    {
     "name": "stdout",
     "output_type": "stream",
     "text": [
      "a 1\n",
      "b 2\n",
      "c 3\n"
     ]
    }
   ],
   "source": [
    "names = [\"a\", \"b\", \"c\", \"d\"]\n",
    "values = [1, 2, 3]\n",
    "for name, value in zip(names, values):\n",
    "    print(name, value)"
   ]
  },
  {
   "cell_type": "code",
   "execution_count": 23,
   "metadata": {},
   "outputs": [
    {
     "data": {
      "text/plain": [
       "zip"
      ]
     },
     "execution_count": 23,
     "metadata": {},
     "output_type": "execute_result"
    }
   ],
   "source": [
    "zipped = zip(names, values)\n",
    "type(zipped)"
   ]
  },
  {
   "cell_type": "markdown",
   "metadata": {},
   "source": [
    "### globals() and locals()"
   ]
  },
  {
   "cell_type": "code",
   "execution_count": 59,
   "metadata": {},
   "outputs": [
    {
     "data": {
      "text/plain": [
       "{'__name__': '__main__',\n",
       " '__doc__': 'Automatically created module for IPython interactive environment',\n",
       " '__package__': None,\n",
       " '__loader__': None,\n",
       " '__spec__': None,\n",
       " '__builtin__': <module 'builtins' (built-in)>,\n",
       " '__builtins__': <module 'builtins' (built-in)>,\n",
       " '_ih': ['',\n",
       "  'lst = [9, 5, 8, 6]\\nlst = lst.sorted(key = lambda x: 1/x)\\nprint(lst)',\n",
       "  'lst = [9, 5, 8, 6]\\nlst = lst.sort(key = lambda x: 1/x)\\nprint(lst)',\n",
       "  'lst = [9, 5, 8, 6]\\n\\nprint(lst.sort(key = lambda x: 1/x))',\n",
       "  'lst = [9, 5, 8, 6]\\nlst.sort(key = lambda x: 1/x)\\n\\nprint(lst)',\n",
       "  'sorted(key = lambda x: x, lst)',\n",
       "  'sorted(lst, key = lambda x: x)',\n",
       "  'x = [0, 1, 2, 3, 4, 5, 6]\\nx[0:5:2]',\n",
       "  'range(5)',\n",
       "  'a = range(5)\\na',\n",
       "  'a = range(5)\\na[1]',\n",
       "  'a = range(1,5,2)\\na',\n",
       "  'a = range(1,5,2)\\n\\nfor i in a:\\n    print(i)',\n",
       "  'x[::-1]',\n",
       "  'x = [0, 1, [2]]\\nx[2][0] = 3\\nprint(x)\\nx[2].append(4)\\nprint(x)\\nx[2] = 2\\nprint(x)',\n",
       "  '# Global Variable\\nx = 2 \\ndef f(a):\\n    # Local Variable\\n    x = a * a \\n    return x\\ny = f(3)\\nprint (x, y)',\n",
       "  \"# Global Variable\\nx = 2 \\ndef f(a):\\n    # Function uses value of 'global' variable as local copy is not present \\n    y = x * a \\n    return y\\ny = f(3)\\nprint (x, y)\",\n",
       "  'x = 1\\ndef f():\\n    y = x\\n    x = 2\\n    return x + y\\nprint(x)\\nprint(f())\\nprint(x)',\n",
       "  'class Dog:\\n    # Class attribute\\n    species = \"Canis familiaris\"\\n\\n    def __init__(self, name, age):\\n        self.name = name\\n        self.age = age\\n\\na = Dog(\\'Rocky\\', 25)\\nb = Dog(\\'Kanu\\', 26)\\n\\nprint(a == b)\\nprint(type(a) == type(b))',\n",
       "  'names = [\"a\", \"b\", \"c\"]\\nvalues = [1, 2, 3]\\nfor name, value in zip(names, values):\\n    print(name, value)',\n",
       "  'type(names)',\n",
       "  'type(zip(names, values))',\n",
       "  'zipped = zip(names, values)',\n",
       "  'zipped = zip(names, values)\\ntype(zipped)',\n",
       "  'zipped[0]',\n",
       "  'a, b = zipped',\n",
       "  'a, b, c = zipped',\n",
       "  'for i in (1, 2, 3):\\n    print(i)',\n",
       "  'for i in {1, 2, 3}:\\n    print(i)',\n",
       "  '\"hell\" in \"hello\"',\n",
       "  'lst = range(0, 10)\\ncopy_lst = [x in lst]',\n",
       "  'copy_lst',\n",
       "  'lst = range(0, 10)\\ncopy_lst = [x for x in lst]',\n",
       "  'copy_lst',\n",
       "  'lst = range(0, 25)\\npy_tri = [(x, y, z) for x in lst for y in lst for z in lst if x*x + y*y == z*z]',\n",
       "  'py_tri',\n",
       "  'py_tri.unique()',\n",
       "  'unique(py_tri)',\n",
       "  'set(py_tri)',\n",
       "  'py_tri = [(x, y, z) for x in range(1, 25) for y in range(x, 25) for z in range(y, 25) if x*x + y*y == z*z]',\n",
       "  'set(py_tri)',\n",
       "  \"a = ['a', 'b', 'c']\\nb = [1, 2, 3]\\n\\nc = [(x, y) for x in a for y in b]\\nprint(c)\",\n",
       "  \"a = ['a', 'b', 'c']\\nb = [1, 2, 3]\\n\\nc = [(x, y) for x, y in (a, b)]\\nprint(c)\",\n",
       "  \"a = ['a', 'b', 'c']\\nb = [1, 2, 3]\\n\\nc = [(x, y) for x, y in zip(a, b)]\\nprint(c)\",\n",
       "  \"a = {'a':1, 'b':2, 'c':3}\",\n",
       "  'a.keys()\\na.values()\\na.items()',\n",
       "  'print(a.keys())\\nprint(a.values())\\nprint(a.items())',\n",
       "  'for key, value in a.items():\\n    print(key, \":\", value)',\n",
       "  \"a.has_key('d')\",\n",
       "  \"a.has_key('b')\",\n",
       "  \"'a' in a\",\n",
       "  \"a.get('a')\",\n",
       "  'a.sort(key = lambda x: 1/x)',\n",
       "  'a.sort(key = lambda x: 1/a.get(x))',\n",
       "  'a.values().sort()',\n",
       "  'lst = a.values()',\n",
       "  'lst = a.values()\\nlst.sort()',\n",
       "  'lst = list(a.values())\\nlst.sort()',\n",
       "  'lst = list(a.values())\\nlst.sort()\\nlst',\n",
       "  'globals()'],\n",
       " '_oh': {6: [5, 6, 8, 9],\n",
       "  7: [0, 2, 4],\n",
       "  8: range(0, 5),\n",
       "  9: range(0, 5),\n",
       "  10: 1,\n",
       "  11: range(1, 5, 2),\n",
       "  13: [6, 5, 4, 3, 2, 1, 0],\n",
       "  20: list,\n",
       "  21: zip,\n",
       "  23: zip,\n",
       "  29: True,\n",
       "  31: [True],\n",
       "  33: [0, 1, 2, 3, 4, 5, 6, 7, 8, 9],\n",
       "  35: [(0, 0, 0),\n",
       "   (0, 1, 1),\n",
       "   (0, 2, 2),\n",
       "   (0, 3, 3),\n",
       "   (0, 4, 4),\n",
       "   (0, 5, 5),\n",
       "   (0, 6, 6),\n",
       "   (0, 7, 7),\n",
       "   (0, 8, 8),\n",
       "   (0, 9, 9),\n",
       "   (0, 10, 10),\n",
       "   (0, 11, 11),\n",
       "   (0, 12, 12),\n",
       "   (0, 13, 13),\n",
       "   (0, 14, 14),\n",
       "   (0, 15, 15),\n",
       "   (0, 16, 16),\n",
       "   (0, 17, 17),\n",
       "   (0, 18, 18),\n",
       "   (0, 19, 19),\n",
       "   (0, 20, 20),\n",
       "   (0, 21, 21),\n",
       "   (0, 22, 22),\n",
       "   (0, 23, 23),\n",
       "   (0, 24, 24),\n",
       "   (1, 0, 1),\n",
       "   (2, 0, 2),\n",
       "   (3, 0, 3),\n",
       "   (3, 4, 5),\n",
       "   (4, 0, 4),\n",
       "   (4, 3, 5),\n",
       "   (5, 0, 5),\n",
       "   (5, 12, 13),\n",
       "   (6, 0, 6),\n",
       "   (6, 8, 10),\n",
       "   (7, 0, 7),\n",
       "   (8, 0, 8),\n",
       "   (8, 6, 10),\n",
       "   (8, 15, 17),\n",
       "   (9, 0, 9),\n",
       "   (9, 12, 15),\n",
       "   (10, 0, 10),\n",
       "   (11, 0, 11),\n",
       "   (12, 0, 12),\n",
       "   (12, 5, 13),\n",
       "   (12, 9, 15),\n",
       "   (12, 16, 20),\n",
       "   (13, 0, 13),\n",
       "   (14, 0, 14),\n",
       "   (15, 0, 15),\n",
       "   (15, 8, 17),\n",
       "   (16, 0, 16),\n",
       "   (16, 12, 20),\n",
       "   (17, 0, 17),\n",
       "   (18, 0, 18),\n",
       "   (19, 0, 19),\n",
       "   (20, 0, 20),\n",
       "   (21, 0, 21),\n",
       "   (22, 0, 22),\n",
       "   (23, 0, 23),\n",
       "   (24, 0, 24)],\n",
       "  38: {(0, 0, 0),\n",
       "   (0, 1, 1),\n",
       "   (0, 2, 2),\n",
       "   (0, 3, 3),\n",
       "   (0, 4, 4),\n",
       "   (0, 5, 5),\n",
       "   (0, 6, 6),\n",
       "   (0, 7, 7),\n",
       "   (0, 8, 8),\n",
       "   (0, 9, 9),\n",
       "   (0, 10, 10),\n",
       "   (0, 11, 11),\n",
       "   (0, 12, 12),\n",
       "   (0, 13, 13),\n",
       "   (0, 14, 14),\n",
       "   (0, 15, 15),\n",
       "   (0, 16, 16),\n",
       "   (0, 17, 17),\n",
       "   (0, 18, 18),\n",
       "   (0, 19, 19),\n",
       "   (0, 20, 20),\n",
       "   (0, 21, 21),\n",
       "   (0, 22, 22),\n",
       "   (0, 23, 23),\n",
       "   (0, 24, 24),\n",
       "   (1, 0, 1),\n",
       "   (2, 0, 2),\n",
       "   (3, 0, 3),\n",
       "   (3, 4, 5),\n",
       "   (4, 0, 4),\n",
       "   (4, 3, 5),\n",
       "   (5, 0, 5),\n",
       "   (5, 12, 13),\n",
       "   (6, 0, 6),\n",
       "   (6, 8, 10),\n",
       "   (7, 0, 7),\n",
       "   (8, 0, 8),\n",
       "   (8, 6, 10),\n",
       "   (8, 15, 17),\n",
       "   (9, 0, 9),\n",
       "   (9, 12, 15),\n",
       "   (10, 0, 10),\n",
       "   (11, 0, 11),\n",
       "   (12, 0, 12),\n",
       "   (12, 5, 13),\n",
       "   (12, 9, 15),\n",
       "   (12, 16, 20),\n",
       "   (13, 0, 13),\n",
       "   (14, 0, 14),\n",
       "   (15, 0, 15),\n",
       "   (15, 8, 17),\n",
       "   (16, 0, 16),\n",
       "   (16, 12, 20),\n",
       "   (17, 0, 17),\n",
       "   (18, 0, 18),\n",
       "   (19, 0, 19),\n",
       "   (20, 0, 20),\n",
       "   (21, 0, 21),\n",
       "   (22, 0, 22),\n",
       "   (23, 0, 23),\n",
       "   (24, 0, 24)},\n",
       "  40: {(3, 4, 5),\n",
       "   (5, 12, 13),\n",
       "   (6, 8, 10),\n",
       "   (8, 15, 17),\n",
       "   (9, 12, 15),\n",
       "   (12, 16, 20)},\n",
       "  45: dict_items([('a', 1), ('b', 2), ('c', 3)]),\n",
       "  50: True,\n",
       "  51: 1,\n",
       "  58: [1, 2, 3]},\n",
       " '_dh': ['C:\\\\Users\\\\prabo\\\\Desktop'],\n",
       " 'In': ['',\n",
       "  'lst = [9, 5, 8, 6]\\nlst = lst.sorted(key = lambda x: 1/x)\\nprint(lst)',\n",
       "  'lst = [9, 5, 8, 6]\\nlst = lst.sort(key = lambda x: 1/x)\\nprint(lst)',\n",
       "  'lst = [9, 5, 8, 6]\\n\\nprint(lst.sort(key = lambda x: 1/x))',\n",
       "  'lst = [9, 5, 8, 6]\\nlst.sort(key = lambda x: 1/x)\\n\\nprint(lst)',\n",
       "  'sorted(key = lambda x: x, lst)',\n",
       "  'sorted(lst, key = lambda x: x)',\n",
       "  'x = [0, 1, 2, 3, 4, 5, 6]\\nx[0:5:2]',\n",
       "  'range(5)',\n",
       "  'a = range(5)\\na',\n",
       "  'a = range(5)\\na[1]',\n",
       "  'a = range(1,5,2)\\na',\n",
       "  'a = range(1,5,2)\\n\\nfor i in a:\\n    print(i)',\n",
       "  'x[::-1]',\n",
       "  'x = [0, 1, [2]]\\nx[2][0] = 3\\nprint(x)\\nx[2].append(4)\\nprint(x)\\nx[2] = 2\\nprint(x)',\n",
       "  '# Global Variable\\nx = 2 \\ndef f(a):\\n    # Local Variable\\n    x = a * a \\n    return x\\ny = f(3)\\nprint (x, y)',\n",
       "  \"# Global Variable\\nx = 2 \\ndef f(a):\\n    # Function uses value of 'global' variable as local copy is not present \\n    y = x * a \\n    return y\\ny = f(3)\\nprint (x, y)\",\n",
       "  'x = 1\\ndef f():\\n    y = x\\n    x = 2\\n    return x + y\\nprint(x)\\nprint(f())\\nprint(x)',\n",
       "  'class Dog:\\n    # Class attribute\\n    species = \"Canis familiaris\"\\n\\n    def __init__(self, name, age):\\n        self.name = name\\n        self.age = age\\n\\na = Dog(\\'Rocky\\', 25)\\nb = Dog(\\'Kanu\\', 26)\\n\\nprint(a == b)\\nprint(type(a) == type(b))',\n",
       "  'names = [\"a\", \"b\", \"c\"]\\nvalues = [1, 2, 3]\\nfor name, value in zip(names, values):\\n    print(name, value)',\n",
       "  'type(names)',\n",
       "  'type(zip(names, values))',\n",
       "  'zipped = zip(names, values)',\n",
       "  'zipped = zip(names, values)\\ntype(zipped)',\n",
       "  'zipped[0]',\n",
       "  'a, b = zipped',\n",
       "  'a, b, c = zipped',\n",
       "  'for i in (1, 2, 3):\\n    print(i)',\n",
       "  'for i in {1, 2, 3}:\\n    print(i)',\n",
       "  '\"hell\" in \"hello\"',\n",
       "  'lst = range(0, 10)\\ncopy_lst = [x in lst]',\n",
       "  'copy_lst',\n",
       "  'lst = range(0, 10)\\ncopy_lst = [x for x in lst]',\n",
       "  'copy_lst',\n",
       "  'lst = range(0, 25)\\npy_tri = [(x, y, z) for x in lst for y in lst for z in lst if x*x + y*y == z*z]',\n",
       "  'py_tri',\n",
       "  'py_tri.unique()',\n",
       "  'unique(py_tri)',\n",
       "  'set(py_tri)',\n",
       "  'py_tri = [(x, y, z) for x in range(1, 25) for y in range(x, 25) for z in range(y, 25) if x*x + y*y == z*z]',\n",
       "  'set(py_tri)',\n",
       "  \"a = ['a', 'b', 'c']\\nb = [1, 2, 3]\\n\\nc = [(x, y) for x in a for y in b]\\nprint(c)\",\n",
       "  \"a = ['a', 'b', 'c']\\nb = [1, 2, 3]\\n\\nc = [(x, y) for x, y in (a, b)]\\nprint(c)\",\n",
       "  \"a = ['a', 'b', 'c']\\nb = [1, 2, 3]\\n\\nc = [(x, y) for x, y in zip(a, b)]\\nprint(c)\",\n",
       "  \"a = {'a':1, 'b':2, 'c':3}\",\n",
       "  'a.keys()\\na.values()\\na.items()',\n",
       "  'print(a.keys())\\nprint(a.values())\\nprint(a.items())',\n",
       "  'for key, value in a.items():\\n    print(key, \":\", value)',\n",
       "  \"a.has_key('d')\",\n",
       "  \"a.has_key('b')\",\n",
       "  \"'a' in a\",\n",
       "  \"a.get('a')\",\n",
       "  'a.sort(key = lambda x: 1/x)',\n",
       "  'a.sort(key = lambda x: 1/a.get(x))',\n",
       "  'a.values().sort()',\n",
       "  'lst = a.values()',\n",
       "  'lst = a.values()\\nlst.sort()',\n",
       "  'lst = list(a.values())\\nlst.sort()',\n",
       "  'lst = list(a.values())\\nlst.sort()\\nlst',\n",
       "  'globals()'],\n",
       " 'Out': {6: [5, 6, 8, 9],\n",
       "  7: [0, 2, 4],\n",
       "  8: range(0, 5),\n",
       "  9: range(0, 5),\n",
       "  10: 1,\n",
       "  11: range(1, 5, 2),\n",
       "  13: [6, 5, 4, 3, 2, 1, 0],\n",
       "  20: list,\n",
       "  21: zip,\n",
       "  23: zip,\n",
       "  29: True,\n",
       "  31: [True],\n",
       "  33: [0, 1, 2, 3, 4, 5, 6, 7, 8, 9],\n",
       "  35: [(0, 0, 0),\n",
       "   (0, 1, 1),\n",
       "   (0, 2, 2),\n",
       "   (0, 3, 3),\n",
       "   (0, 4, 4),\n",
       "   (0, 5, 5),\n",
       "   (0, 6, 6),\n",
       "   (0, 7, 7),\n",
       "   (0, 8, 8),\n",
       "   (0, 9, 9),\n",
       "   (0, 10, 10),\n",
       "   (0, 11, 11),\n",
       "   (0, 12, 12),\n",
       "   (0, 13, 13),\n",
       "   (0, 14, 14),\n",
       "   (0, 15, 15),\n",
       "   (0, 16, 16),\n",
       "   (0, 17, 17),\n",
       "   (0, 18, 18),\n",
       "   (0, 19, 19),\n",
       "   (0, 20, 20),\n",
       "   (0, 21, 21),\n",
       "   (0, 22, 22),\n",
       "   (0, 23, 23),\n",
       "   (0, 24, 24),\n",
       "   (1, 0, 1),\n",
       "   (2, 0, 2),\n",
       "   (3, 0, 3),\n",
       "   (3, 4, 5),\n",
       "   (4, 0, 4),\n",
       "   (4, 3, 5),\n",
       "   (5, 0, 5),\n",
       "   (5, 12, 13),\n",
       "   (6, 0, 6),\n",
       "   (6, 8, 10),\n",
       "   (7, 0, 7),\n",
       "   (8, 0, 8),\n",
       "   (8, 6, 10),\n",
       "   (8, 15, 17),\n",
       "   (9, 0, 9),\n",
       "   (9, 12, 15),\n",
       "   (10, 0, 10),\n",
       "   (11, 0, 11),\n",
       "   (12, 0, 12),\n",
       "   (12, 5, 13),\n",
       "   (12, 9, 15),\n",
       "   (12, 16, 20),\n",
       "   (13, 0, 13),\n",
       "   (14, 0, 14),\n",
       "   (15, 0, 15),\n",
       "   (15, 8, 17),\n",
       "   (16, 0, 16),\n",
       "   (16, 12, 20),\n",
       "   (17, 0, 17),\n",
       "   (18, 0, 18),\n",
       "   (19, 0, 19),\n",
       "   (20, 0, 20),\n",
       "   (21, 0, 21),\n",
       "   (22, 0, 22),\n",
       "   (23, 0, 23),\n",
       "   (24, 0, 24)],\n",
       "  38: {(0, 0, 0),\n",
       "   (0, 1, 1),\n",
       "   (0, 2, 2),\n",
       "   (0, 3, 3),\n",
       "   (0, 4, 4),\n",
       "   (0, 5, 5),\n",
       "   (0, 6, 6),\n",
       "   (0, 7, 7),\n",
       "   (0, 8, 8),\n",
       "   (0, 9, 9),\n",
       "   (0, 10, 10),\n",
       "   (0, 11, 11),\n",
       "   (0, 12, 12),\n",
       "   (0, 13, 13),\n",
       "   (0, 14, 14),\n",
       "   (0, 15, 15),\n",
       "   (0, 16, 16),\n",
       "   (0, 17, 17),\n",
       "   (0, 18, 18),\n",
       "   (0, 19, 19),\n",
       "   (0, 20, 20),\n",
       "   (0, 21, 21),\n",
       "   (0, 22, 22),\n",
       "   (0, 23, 23),\n",
       "   (0, 24, 24),\n",
       "   (1, 0, 1),\n",
       "   (2, 0, 2),\n",
       "   (3, 0, 3),\n",
       "   (3, 4, 5),\n",
       "   (4, 0, 4),\n",
       "   (4, 3, 5),\n",
       "   (5, 0, 5),\n",
       "   (5, 12, 13),\n",
       "   (6, 0, 6),\n",
       "   (6, 8, 10),\n",
       "   (7, 0, 7),\n",
       "   (8, 0, 8),\n",
       "   (8, 6, 10),\n",
       "   (8, 15, 17),\n",
       "   (9, 0, 9),\n",
       "   (9, 12, 15),\n",
       "   (10, 0, 10),\n",
       "   (11, 0, 11),\n",
       "   (12, 0, 12),\n",
       "   (12, 5, 13),\n",
       "   (12, 9, 15),\n",
       "   (12, 16, 20),\n",
       "   (13, 0, 13),\n",
       "   (14, 0, 14),\n",
       "   (15, 0, 15),\n",
       "   (15, 8, 17),\n",
       "   (16, 0, 16),\n",
       "   (16, 12, 20),\n",
       "   (17, 0, 17),\n",
       "   (18, 0, 18),\n",
       "   (19, 0, 19),\n",
       "   (20, 0, 20),\n",
       "   (21, 0, 21),\n",
       "   (22, 0, 22),\n",
       "   (23, 0, 23),\n",
       "   (24, 0, 24)},\n",
       "  40: {(3, 4, 5),\n",
       "   (5, 12, 13),\n",
       "   (6, 8, 10),\n",
       "   (8, 15, 17),\n",
       "   (9, 12, 15),\n",
       "   (12, 16, 20)},\n",
       "  45: dict_items([('a', 1), ('b', 2), ('c', 3)]),\n",
       "  50: True,\n",
       "  51: 1,\n",
       "  58: [1, 2, 3]},\n",
       " 'get_ipython': <bound method InteractiveShell.get_ipython of <ipykernel.zmqshell.ZMQInteractiveShell object at 0x0000018D3F646F08>>,\n",
       " 'exit': <IPython.core.autocall.ZMQExitAutocall at 0x18d3f683d88>,\n",
       " 'quit': <IPython.core.autocall.ZMQExitAutocall at 0x18d3f683d88>,\n",
       " '_': [1, 2, 3],\n",
       " '__': 1,\n",
       " '___': True,\n",
       " '_i': 'lst = list(a.values())\\nlst.sort()\\nlst',\n",
       " '_ii': 'lst = list(a.values())\\nlst.sort()',\n",
       " '_iii': 'lst = a.values()\\nlst.sort()',\n",
       " '_i1': 'lst = [9, 5, 8, 6]\\nlst = lst.sorted(key = lambda x: 1/x)\\nprint(lst)',\n",
       " 'lst': [1, 2, 3],\n",
       " '_i2': 'lst = [9, 5, 8, 6]\\nlst = lst.sort(key = lambda x: 1/x)\\nprint(lst)',\n",
       " '_i3': 'lst = [9, 5, 8, 6]\\n\\nprint(lst.sort(key = lambda x: 1/x))',\n",
       " '_i4': 'lst = [9, 5, 8, 6]\\nlst.sort(key = lambda x: 1/x)\\n\\nprint(lst)',\n",
       " '_i5': 'sorted(key = lambda x: x, lst)',\n",
       " '_i6': 'sorted(lst, key = lambda x: x)',\n",
       " '_6': [5, 6, 8, 9],\n",
       " '_i7': 'x = [0, 1, 2, 3, 4, 5, 6]\\nx[0:5:2]',\n",
       " 'x': 1,\n",
       " '_7': [0, 2, 4],\n",
       " '_i8': 'range(5)',\n",
       " '_8': range(0, 5),\n",
       " '_i9': 'a = range(5)\\na',\n",
       " 'a': {'a': 1, 'b': 2, 'c': 3},\n",
       " '_9': range(0, 5),\n",
       " '_i10': 'a = range(5)\\na[1]',\n",
       " '_10': 1,\n",
       " '_i11': 'a = range(1,5,2)\\na',\n",
       " '_11': range(1, 5, 2),\n",
       " '_i12': 'a = range(1,5,2)\\n\\nfor i in a:\\n    print(i)',\n",
       " 'i': 3,\n",
       " '_i13': 'x[::-1]',\n",
       " '_13': [6, 5, 4, 3, 2, 1, 0],\n",
       " '_i14': 'x = [0, 1, [2]]\\nx[2][0] = 3\\nprint(x)\\nx[2].append(4)\\nprint(x)\\nx[2] = 2\\nprint(x)',\n",
       " '_i15': '# Global Variable\\nx = 2 \\ndef f(a):\\n    # Local Variable\\n    x = a * a \\n    return x\\ny = f(3)\\nprint (x, y)',\n",
       " 'f': <function __main__.f()>,\n",
       " 'y': 6,\n",
       " '_i16': \"# Global Variable\\nx = 2 \\ndef f(a):\\n    # Function uses value of 'global' variable as local copy is not present \\n    y = x * a \\n    return y\\ny = f(3)\\nprint (x, y)\",\n",
       " '_i17': 'x = 1\\ndef f():\\n    y = x\\n    x = 2\\n    return x + y\\nprint(x)\\nprint(f())\\nprint(x)',\n",
       " '_i18': 'class Dog:\\n    # Class attribute\\n    species = \"Canis familiaris\"\\n\\n    def __init__(self, name, age):\\n        self.name = name\\n        self.age = age\\n\\na = Dog(\\'Rocky\\', 25)\\nb = Dog(\\'Kanu\\', 26)\\n\\nprint(a == b)\\nprint(type(a) == type(b))',\n",
       " 'Dog': __main__.Dog,\n",
       " 'b': [1, 2, 3],\n",
       " '_i19': 'names = [\"a\", \"b\", \"c\"]\\nvalues = [1, 2, 3]\\nfor name, value in zip(names, values):\\n    print(name, value)',\n",
       " 'names': ['a', 'b', 'c'],\n",
       " 'values': [1, 2, 3],\n",
       " 'name': 'c',\n",
       " 'value': 3,\n",
       " '_i20': 'type(names)',\n",
       " '_20': list,\n",
       " '_i21': 'type(zip(names, values))',\n",
       " '_21': zip,\n",
       " '_i22': 'zipped = zip(names, values)',\n",
       " 'zipped': <zip at 0x18d3f783848>,\n",
       " '_i23': 'zipped = zip(names, values)\\ntype(zipped)',\n",
       " '_23': zip,\n",
       " '_i24': 'zipped[0]',\n",
       " '_i25': 'a, b = zipped',\n",
       " '_i26': 'a, b, c = zipped',\n",
       " '_i27': 'for i in (1, 2, 3):\\n    print(i)',\n",
       " '_i28': 'for i in {1, 2, 3}:\\n    print(i)',\n",
       " '_i29': '\"hell\" in \"hello\"',\n",
       " '_29': True,\n",
       " '_i30': 'lst = range(0, 10)\\ncopy_lst = [x in lst]',\n",
       " 'copy_lst': [0, 1, 2, 3, 4, 5, 6, 7, 8, 9],\n",
       " '_i31': 'copy_lst',\n",
       " '_31': [True],\n",
       " '_i32': 'lst = range(0, 10)\\ncopy_lst = [x for x in lst]',\n",
       " '_i33': 'copy_lst',\n",
       " '_33': [0, 1, 2, 3, 4, 5, 6, 7, 8, 9],\n",
       " '_i34': 'lst = range(0, 25)\\npy_tri = [(x, y, z) for x in lst for y in lst for z in lst if x*x + y*y == z*z]',\n",
       " 'py_tri': [(3, 4, 5),\n",
       "  (5, 12, 13),\n",
       "  (6, 8, 10),\n",
       "  (8, 15, 17),\n",
       "  (9, 12, 15),\n",
       "  (12, 16, 20)],\n",
       " '_i35': 'py_tri',\n",
       " '_35': [(0, 0, 0),\n",
       "  (0, 1, 1),\n",
       "  (0, 2, 2),\n",
       "  (0, 3, 3),\n",
       "  (0, 4, 4),\n",
       "  (0, 5, 5),\n",
       "  (0, 6, 6),\n",
       "  (0, 7, 7),\n",
       "  (0, 8, 8),\n",
       "  (0, 9, 9),\n",
       "  (0, 10, 10),\n",
       "  (0, 11, 11),\n",
       "  (0, 12, 12),\n",
       "  (0, 13, 13),\n",
       "  (0, 14, 14),\n",
       "  (0, 15, 15),\n",
       "  (0, 16, 16),\n",
       "  (0, 17, 17),\n",
       "  (0, 18, 18),\n",
       "  (0, 19, 19),\n",
       "  (0, 20, 20),\n",
       "  (0, 21, 21),\n",
       "  (0, 22, 22),\n",
       "  (0, 23, 23),\n",
       "  (0, 24, 24),\n",
       "  (1, 0, 1),\n",
       "  (2, 0, 2),\n",
       "  (3, 0, 3),\n",
       "  (3, 4, 5),\n",
       "  (4, 0, 4),\n",
       "  (4, 3, 5),\n",
       "  (5, 0, 5),\n",
       "  (5, 12, 13),\n",
       "  (6, 0, 6),\n",
       "  (6, 8, 10),\n",
       "  (7, 0, 7),\n",
       "  (8, 0, 8),\n",
       "  (8, 6, 10),\n",
       "  (8, 15, 17),\n",
       "  (9, 0, 9),\n",
       "  (9, 12, 15),\n",
       "  (10, 0, 10),\n",
       "  (11, 0, 11),\n",
       "  (12, 0, 12),\n",
       "  (12, 5, 13),\n",
       "  (12, 9, 15),\n",
       "  (12, 16, 20),\n",
       "  (13, 0, 13),\n",
       "  (14, 0, 14),\n",
       "  (15, 0, 15),\n",
       "  (15, 8, 17),\n",
       "  (16, 0, 16),\n",
       "  (16, 12, 20),\n",
       "  (17, 0, 17),\n",
       "  (18, 0, 18),\n",
       "  (19, 0, 19),\n",
       "  (20, 0, 20),\n",
       "  (21, 0, 21),\n",
       "  (22, 0, 22),\n",
       "  (23, 0, 23),\n",
       "  (24, 0, 24)],\n",
       " '_i36': 'py_tri.unique()',\n",
       " '_i37': 'unique(py_tri)',\n",
       " '_i38': 'set(py_tri)',\n",
       " '_38': {(0, 0, 0),\n",
       "  (0, 1, 1),\n",
       "  (0, 2, 2),\n",
       "  (0, 3, 3),\n",
       "  (0, 4, 4),\n",
       "  (0, 5, 5),\n",
       "  (0, 6, 6),\n",
       "  (0, 7, 7),\n",
       "  (0, 8, 8),\n",
       "  (0, 9, 9),\n",
       "  (0, 10, 10),\n",
       "  (0, 11, 11),\n",
       "  (0, 12, 12),\n",
       "  (0, 13, 13),\n",
       "  (0, 14, 14),\n",
       "  (0, 15, 15),\n",
       "  (0, 16, 16),\n",
       "  (0, 17, 17),\n",
       "  (0, 18, 18),\n",
       "  (0, 19, 19),\n",
       "  (0, 20, 20),\n",
       "  (0, 21, 21),\n",
       "  (0, 22, 22),\n",
       "  (0, 23, 23),\n",
       "  (0, 24, 24),\n",
       "  (1, 0, 1),\n",
       "  (2, 0, 2),\n",
       "  (3, 0, 3),\n",
       "  (3, 4, 5),\n",
       "  (4, 0, 4),\n",
       "  (4, 3, 5),\n",
       "  (5, 0, 5),\n",
       "  (5, 12, 13),\n",
       "  (6, 0, 6),\n",
       "  (6, 8, 10),\n",
       "  (7, 0, 7),\n",
       "  (8, 0, 8),\n",
       "  (8, 6, 10),\n",
       "  (8, 15, 17),\n",
       "  (9, 0, 9),\n",
       "  (9, 12, 15),\n",
       "  (10, 0, 10),\n",
       "  (11, 0, 11),\n",
       "  (12, 0, 12),\n",
       "  (12, 5, 13),\n",
       "  (12, 9, 15),\n",
       "  (12, 16, 20),\n",
       "  (13, 0, 13),\n",
       "  (14, 0, 14),\n",
       "  (15, 0, 15),\n",
       "  (15, 8, 17),\n",
       "  (16, 0, 16),\n",
       "  (16, 12, 20),\n",
       "  (17, 0, 17),\n",
       "  (18, 0, 18),\n",
       "  (19, 0, 19),\n",
       "  (20, 0, 20),\n",
       "  (21, 0, 21),\n",
       "  (22, 0, 22),\n",
       "  (23, 0, 23),\n",
       "  (24, 0, 24)},\n",
       " '_i39': 'py_tri = [(x, y, z) for x in range(1, 25) for y in range(x, 25) for z in range(y, 25) if x*x + y*y == z*z]',\n",
       " '_i40': 'set(py_tri)',\n",
       " '_40': {(3, 4, 5),\n",
       "  (5, 12, 13),\n",
       "  (6, 8, 10),\n",
       "  (8, 15, 17),\n",
       "  (9, 12, 15),\n",
       "  (12, 16, 20)},\n",
       " '_i41': \"a = ['a', 'b', 'c']\\nb = [1, 2, 3]\\n\\nc = [(x, y) for x in a for y in b]\\nprint(c)\",\n",
       " 'c': [('a', 1), ('b', 2), ('c', 3)],\n",
       " '_i42': \"a = ['a', 'b', 'c']\\nb = [1, 2, 3]\\n\\nc = [(x, y) for x, y in (a, b)]\\nprint(c)\",\n",
       " '_i43': \"a = ['a', 'b', 'c']\\nb = [1, 2, 3]\\n\\nc = [(x, y) for x, y in zip(a, b)]\\nprint(c)\",\n",
       " '_i44': \"a = {'a':1, 'b':2, 'c':3}\",\n",
       " '_i45': 'a.keys()\\na.values()\\na.items()',\n",
       " '_45': dict_items([('a', 1), ('b', 2), ('c', 3)]),\n",
       " '_i46': 'print(a.keys())\\nprint(a.values())\\nprint(a.items())',\n",
       " '_i47': 'for key, value in a.items():\\n    print(key, \":\", value)',\n",
       " 'key': 'c',\n",
       " '_i48': \"a.has_key('d')\",\n",
       " '_i49': \"a.has_key('b')\",\n",
       " '_i50': \"'a' in a\",\n",
       " '_50': True,\n",
       " '_i51': \"a.get('a')\",\n",
       " '_51': 1,\n",
       " '_i52': 'a.sort(key = lambda x: 1/x)',\n",
       " '_i53': 'a.sort(key = lambda x: 1/a.get(x))',\n",
       " '_i54': 'a.values().sort()',\n",
       " '_i55': 'lst = a.values()',\n",
       " '_i56': 'lst = a.values()\\nlst.sort()',\n",
       " '_i57': 'lst = list(a.values())\\nlst.sort()',\n",
       " '_i58': 'lst = list(a.values())\\nlst.sort()\\nlst',\n",
       " '_58': [1, 2, 3],\n",
       " '_i59': 'globals()'}"
      ]
     },
     "execution_count": 59,
     "metadata": {},
     "output_type": "execute_result"
    }
   ],
   "source": [
    "# All global variables\n",
    "globals()"
   ]
  },
  {
   "cell_type": "code",
   "execution_count": 60,
   "metadata": {},
   "outputs": [
    {
     "data": {
      "text/plain": [
       "{'__name__': '__main__',\n",
       " '__doc__': 'Automatically created module for IPython interactive environment',\n",
       " '__package__': None,\n",
       " '__loader__': None,\n",
       " '__spec__': None,\n",
       " '__builtin__': <module 'builtins' (built-in)>,\n",
       " '__builtins__': <module 'builtins' (built-in)>,\n",
       " '_ih': ['',\n",
       "  'lst = [9, 5, 8, 6]\\nlst = lst.sorted(key = lambda x: 1/x)\\nprint(lst)',\n",
       "  'lst = [9, 5, 8, 6]\\nlst = lst.sort(key = lambda x: 1/x)\\nprint(lst)',\n",
       "  'lst = [9, 5, 8, 6]\\n\\nprint(lst.sort(key = lambda x: 1/x))',\n",
       "  'lst = [9, 5, 8, 6]\\nlst.sort(key = lambda x: 1/x)\\n\\nprint(lst)',\n",
       "  'sorted(key = lambda x: x, lst)',\n",
       "  'sorted(lst, key = lambda x: x)',\n",
       "  'x = [0, 1, 2, 3, 4, 5, 6]\\nx[0:5:2]',\n",
       "  'range(5)',\n",
       "  'a = range(5)\\na',\n",
       "  'a = range(5)\\na[1]',\n",
       "  'a = range(1,5,2)\\na',\n",
       "  'a = range(1,5,2)\\n\\nfor i in a:\\n    print(i)',\n",
       "  'x[::-1]',\n",
       "  'x = [0, 1, [2]]\\nx[2][0] = 3\\nprint(x)\\nx[2].append(4)\\nprint(x)\\nx[2] = 2\\nprint(x)',\n",
       "  '# Global Variable\\nx = 2 \\ndef f(a):\\n    # Local Variable\\n    x = a * a \\n    return x\\ny = f(3)\\nprint (x, y)',\n",
       "  \"# Global Variable\\nx = 2 \\ndef f(a):\\n    # Function uses value of 'global' variable as local copy is not present \\n    y = x * a \\n    return y\\ny = f(3)\\nprint (x, y)\",\n",
       "  'x = 1\\ndef f():\\n    y = x\\n    x = 2\\n    return x + y\\nprint(x)\\nprint(f())\\nprint(x)',\n",
       "  'class Dog:\\n    # Class attribute\\n    species = \"Canis familiaris\"\\n\\n    def __init__(self, name, age):\\n        self.name = name\\n        self.age = age\\n\\na = Dog(\\'Rocky\\', 25)\\nb = Dog(\\'Kanu\\', 26)\\n\\nprint(a == b)\\nprint(type(a) == type(b))',\n",
       "  'names = [\"a\", \"b\", \"c\"]\\nvalues = [1, 2, 3]\\nfor name, value in zip(names, values):\\n    print(name, value)',\n",
       "  'type(names)',\n",
       "  'type(zip(names, values))',\n",
       "  'zipped = zip(names, values)',\n",
       "  'zipped = zip(names, values)\\ntype(zipped)',\n",
       "  'zipped[0]',\n",
       "  'a, b = zipped',\n",
       "  'a, b, c = zipped',\n",
       "  'for i in (1, 2, 3):\\n    print(i)',\n",
       "  'for i in {1, 2, 3}:\\n    print(i)',\n",
       "  '\"hell\" in \"hello\"',\n",
       "  'lst = range(0, 10)\\ncopy_lst = [x in lst]',\n",
       "  'copy_lst',\n",
       "  'lst = range(0, 10)\\ncopy_lst = [x for x in lst]',\n",
       "  'copy_lst',\n",
       "  'lst = range(0, 25)\\npy_tri = [(x, y, z) for x in lst for y in lst for z in lst if x*x + y*y == z*z]',\n",
       "  'py_tri',\n",
       "  'py_tri.unique()',\n",
       "  'unique(py_tri)',\n",
       "  'set(py_tri)',\n",
       "  'py_tri = [(x, y, z) for x in range(1, 25) for y in range(x, 25) for z in range(y, 25) if x*x + y*y == z*z]',\n",
       "  'set(py_tri)',\n",
       "  \"a = ['a', 'b', 'c']\\nb = [1, 2, 3]\\n\\nc = [(x, y) for x in a for y in b]\\nprint(c)\",\n",
       "  \"a = ['a', 'b', 'c']\\nb = [1, 2, 3]\\n\\nc = [(x, y) for x, y in (a, b)]\\nprint(c)\",\n",
       "  \"a = ['a', 'b', 'c']\\nb = [1, 2, 3]\\n\\nc = [(x, y) for x, y in zip(a, b)]\\nprint(c)\",\n",
       "  \"a = {'a':1, 'b':2, 'c':3}\",\n",
       "  'a.keys()\\na.values()\\na.items()',\n",
       "  'print(a.keys())\\nprint(a.values())\\nprint(a.items())',\n",
       "  'for key, value in a.items():\\n    print(key, \":\", value)',\n",
       "  \"a.has_key('d')\",\n",
       "  \"a.has_key('b')\",\n",
       "  \"'a' in a\",\n",
       "  \"a.get('a')\",\n",
       "  'a.sort(key = lambda x: 1/x)',\n",
       "  'a.sort(key = lambda x: 1/a.get(x))',\n",
       "  'a.values().sort()',\n",
       "  'lst = a.values()',\n",
       "  'lst = a.values()\\nlst.sort()',\n",
       "  'lst = list(a.values())\\nlst.sort()',\n",
       "  'lst = list(a.values())\\nlst.sort()\\nlst',\n",
       "  'globals()',\n",
       "  'locals()'],\n",
       " '_oh': {6: [5, 6, 8, 9],\n",
       "  7: [0, 2, 4],\n",
       "  8: range(0, 5),\n",
       "  9: range(0, 5),\n",
       "  10: 1,\n",
       "  11: range(1, 5, 2),\n",
       "  13: [6, 5, 4, 3, 2, 1, 0],\n",
       "  20: list,\n",
       "  21: zip,\n",
       "  23: zip,\n",
       "  29: True,\n",
       "  31: [True],\n",
       "  33: [0, 1, 2, 3, 4, 5, 6, 7, 8, 9],\n",
       "  35: [(0, 0, 0),\n",
       "   (0, 1, 1),\n",
       "   (0, 2, 2),\n",
       "   (0, 3, 3),\n",
       "   (0, 4, 4),\n",
       "   (0, 5, 5),\n",
       "   (0, 6, 6),\n",
       "   (0, 7, 7),\n",
       "   (0, 8, 8),\n",
       "   (0, 9, 9),\n",
       "   (0, 10, 10),\n",
       "   (0, 11, 11),\n",
       "   (0, 12, 12),\n",
       "   (0, 13, 13),\n",
       "   (0, 14, 14),\n",
       "   (0, 15, 15),\n",
       "   (0, 16, 16),\n",
       "   (0, 17, 17),\n",
       "   (0, 18, 18),\n",
       "   (0, 19, 19),\n",
       "   (0, 20, 20),\n",
       "   (0, 21, 21),\n",
       "   (0, 22, 22),\n",
       "   (0, 23, 23),\n",
       "   (0, 24, 24),\n",
       "   (1, 0, 1),\n",
       "   (2, 0, 2),\n",
       "   (3, 0, 3),\n",
       "   (3, 4, 5),\n",
       "   (4, 0, 4),\n",
       "   (4, 3, 5),\n",
       "   (5, 0, 5),\n",
       "   (5, 12, 13),\n",
       "   (6, 0, 6),\n",
       "   (6, 8, 10),\n",
       "   (7, 0, 7),\n",
       "   (8, 0, 8),\n",
       "   (8, 6, 10),\n",
       "   (8, 15, 17),\n",
       "   (9, 0, 9),\n",
       "   (9, 12, 15),\n",
       "   (10, 0, 10),\n",
       "   (11, 0, 11),\n",
       "   (12, 0, 12),\n",
       "   (12, 5, 13),\n",
       "   (12, 9, 15),\n",
       "   (12, 16, 20),\n",
       "   (13, 0, 13),\n",
       "   (14, 0, 14),\n",
       "   (15, 0, 15),\n",
       "   (15, 8, 17),\n",
       "   (16, 0, 16),\n",
       "   (16, 12, 20),\n",
       "   (17, 0, 17),\n",
       "   (18, 0, 18),\n",
       "   (19, 0, 19),\n",
       "   (20, 0, 20),\n",
       "   (21, 0, 21),\n",
       "   (22, 0, 22),\n",
       "   (23, 0, 23),\n",
       "   (24, 0, 24)],\n",
       "  38: {(0, 0, 0),\n",
       "   (0, 1, 1),\n",
       "   (0, 2, 2),\n",
       "   (0, 3, 3),\n",
       "   (0, 4, 4),\n",
       "   (0, 5, 5),\n",
       "   (0, 6, 6),\n",
       "   (0, 7, 7),\n",
       "   (0, 8, 8),\n",
       "   (0, 9, 9),\n",
       "   (0, 10, 10),\n",
       "   (0, 11, 11),\n",
       "   (0, 12, 12),\n",
       "   (0, 13, 13),\n",
       "   (0, 14, 14),\n",
       "   (0, 15, 15),\n",
       "   (0, 16, 16),\n",
       "   (0, 17, 17),\n",
       "   (0, 18, 18),\n",
       "   (0, 19, 19),\n",
       "   (0, 20, 20),\n",
       "   (0, 21, 21),\n",
       "   (0, 22, 22),\n",
       "   (0, 23, 23),\n",
       "   (0, 24, 24),\n",
       "   (1, 0, 1),\n",
       "   (2, 0, 2),\n",
       "   (3, 0, 3),\n",
       "   (3, 4, 5),\n",
       "   (4, 0, 4),\n",
       "   (4, 3, 5),\n",
       "   (5, 0, 5),\n",
       "   (5, 12, 13),\n",
       "   (6, 0, 6),\n",
       "   (6, 8, 10),\n",
       "   (7, 0, 7),\n",
       "   (8, 0, 8),\n",
       "   (8, 6, 10),\n",
       "   (8, 15, 17),\n",
       "   (9, 0, 9),\n",
       "   (9, 12, 15),\n",
       "   (10, 0, 10),\n",
       "   (11, 0, 11),\n",
       "   (12, 0, 12),\n",
       "   (12, 5, 13),\n",
       "   (12, 9, 15),\n",
       "   (12, 16, 20),\n",
       "   (13, 0, 13),\n",
       "   (14, 0, 14),\n",
       "   (15, 0, 15),\n",
       "   (15, 8, 17),\n",
       "   (16, 0, 16),\n",
       "   (16, 12, 20),\n",
       "   (17, 0, 17),\n",
       "   (18, 0, 18),\n",
       "   (19, 0, 19),\n",
       "   (20, 0, 20),\n",
       "   (21, 0, 21),\n",
       "   (22, 0, 22),\n",
       "   (23, 0, 23),\n",
       "   (24, 0, 24)},\n",
       "  40: {(3, 4, 5),\n",
       "   (5, 12, 13),\n",
       "   (6, 8, 10),\n",
       "   (8, 15, 17),\n",
       "   (9, 12, 15),\n",
       "   (12, 16, 20)},\n",
       "  45: dict_items([('a', 1), ('b', 2), ('c', 3)]),\n",
       "  50: True,\n",
       "  51: 1,\n",
       "  58: [1, 2, 3],\n",
       "  59: {...}},\n",
       " '_dh': ['C:\\\\Users\\\\prabo\\\\Desktop'],\n",
       " 'In': ['',\n",
       "  'lst = [9, 5, 8, 6]\\nlst = lst.sorted(key = lambda x: 1/x)\\nprint(lst)',\n",
       "  'lst = [9, 5, 8, 6]\\nlst = lst.sort(key = lambda x: 1/x)\\nprint(lst)',\n",
       "  'lst = [9, 5, 8, 6]\\n\\nprint(lst.sort(key = lambda x: 1/x))',\n",
       "  'lst = [9, 5, 8, 6]\\nlst.sort(key = lambda x: 1/x)\\n\\nprint(lst)',\n",
       "  'sorted(key = lambda x: x, lst)',\n",
       "  'sorted(lst, key = lambda x: x)',\n",
       "  'x = [0, 1, 2, 3, 4, 5, 6]\\nx[0:5:2]',\n",
       "  'range(5)',\n",
       "  'a = range(5)\\na',\n",
       "  'a = range(5)\\na[1]',\n",
       "  'a = range(1,5,2)\\na',\n",
       "  'a = range(1,5,2)\\n\\nfor i in a:\\n    print(i)',\n",
       "  'x[::-1]',\n",
       "  'x = [0, 1, [2]]\\nx[2][0] = 3\\nprint(x)\\nx[2].append(4)\\nprint(x)\\nx[2] = 2\\nprint(x)',\n",
       "  '# Global Variable\\nx = 2 \\ndef f(a):\\n    # Local Variable\\n    x = a * a \\n    return x\\ny = f(3)\\nprint (x, y)',\n",
       "  \"# Global Variable\\nx = 2 \\ndef f(a):\\n    # Function uses value of 'global' variable as local copy is not present \\n    y = x * a \\n    return y\\ny = f(3)\\nprint (x, y)\",\n",
       "  'x = 1\\ndef f():\\n    y = x\\n    x = 2\\n    return x + y\\nprint(x)\\nprint(f())\\nprint(x)',\n",
       "  'class Dog:\\n    # Class attribute\\n    species = \"Canis familiaris\"\\n\\n    def __init__(self, name, age):\\n        self.name = name\\n        self.age = age\\n\\na = Dog(\\'Rocky\\', 25)\\nb = Dog(\\'Kanu\\', 26)\\n\\nprint(a == b)\\nprint(type(a) == type(b))',\n",
       "  'names = [\"a\", \"b\", \"c\"]\\nvalues = [1, 2, 3]\\nfor name, value in zip(names, values):\\n    print(name, value)',\n",
       "  'type(names)',\n",
       "  'type(zip(names, values))',\n",
       "  'zipped = zip(names, values)',\n",
       "  'zipped = zip(names, values)\\ntype(zipped)',\n",
       "  'zipped[0]',\n",
       "  'a, b = zipped',\n",
       "  'a, b, c = zipped',\n",
       "  'for i in (1, 2, 3):\\n    print(i)',\n",
       "  'for i in {1, 2, 3}:\\n    print(i)',\n",
       "  '\"hell\" in \"hello\"',\n",
       "  'lst = range(0, 10)\\ncopy_lst = [x in lst]',\n",
       "  'copy_lst',\n",
       "  'lst = range(0, 10)\\ncopy_lst = [x for x in lst]',\n",
       "  'copy_lst',\n",
       "  'lst = range(0, 25)\\npy_tri = [(x, y, z) for x in lst for y in lst for z in lst if x*x + y*y == z*z]',\n",
       "  'py_tri',\n",
       "  'py_tri.unique()',\n",
       "  'unique(py_tri)',\n",
       "  'set(py_tri)',\n",
       "  'py_tri = [(x, y, z) for x in range(1, 25) for y in range(x, 25) for z in range(y, 25) if x*x + y*y == z*z]',\n",
       "  'set(py_tri)',\n",
       "  \"a = ['a', 'b', 'c']\\nb = [1, 2, 3]\\n\\nc = [(x, y) for x in a for y in b]\\nprint(c)\",\n",
       "  \"a = ['a', 'b', 'c']\\nb = [1, 2, 3]\\n\\nc = [(x, y) for x, y in (a, b)]\\nprint(c)\",\n",
       "  \"a = ['a', 'b', 'c']\\nb = [1, 2, 3]\\n\\nc = [(x, y) for x, y in zip(a, b)]\\nprint(c)\",\n",
       "  \"a = {'a':1, 'b':2, 'c':3}\",\n",
       "  'a.keys()\\na.values()\\na.items()',\n",
       "  'print(a.keys())\\nprint(a.values())\\nprint(a.items())',\n",
       "  'for key, value in a.items():\\n    print(key, \":\", value)',\n",
       "  \"a.has_key('d')\",\n",
       "  \"a.has_key('b')\",\n",
       "  \"'a' in a\",\n",
       "  \"a.get('a')\",\n",
       "  'a.sort(key = lambda x: 1/x)',\n",
       "  'a.sort(key = lambda x: 1/a.get(x))',\n",
       "  'a.values().sort()',\n",
       "  'lst = a.values()',\n",
       "  'lst = a.values()\\nlst.sort()',\n",
       "  'lst = list(a.values())\\nlst.sort()',\n",
       "  'lst = list(a.values())\\nlst.sort()\\nlst',\n",
       "  'globals()',\n",
       "  'locals()'],\n",
       " 'Out': {6: [5, 6, 8, 9],\n",
       "  7: [0, 2, 4],\n",
       "  8: range(0, 5),\n",
       "  9: range(0, 5),\n",
       "  10: 1,\n",
       "  11: range(1, 5, 2),\n",
       "  13: [6, 5, 4, 3, 2, 1, 0],\n",
       "  20: list,\n",
       "  21: zip,\n",
       "  23: zip,\n",
       "  29: True,\n",
       "  31: [True],\n",
       "  33: [0, 1, 2, 3, 4, 5, 6, 7, 8, 9],\n",
       "  35: [(0, 0, 0),\n",
       "   (0, 1, 1),\n",
       "   (0, 2, 2),\n",
       "   (0, 3, 3),\n",
       "   (0, 4, 4),\n",
       "   (0, 5, 5),\n",
       "   (0, 6, 6),\n",
       "   (0, 7, 7),\n",
       "   (0, 8, 8),\n",
       "   (0, 9, 9),\n",
       "   (0, 10, 10),\n",
       "   (0, 11, 11),\n",
       "   (0, 12, 12),\n",
       "   (0, 13, 13),\n",
       "   (0, 14, 14),\n",
       "   (0, 15, 15),\n",
       "   (0, 16, 16),\n",
       "   (0, 17, 17),\n",
       "   (0, 18, 18),\n",
       "   (0, 19, 19),\n",
       "   (0, 20, 20),\n",
       "   (0, 21, 21),\n",
       "   (0, 22, 22),\n",
       "   (0, 23, 23),\n",
       "   (0, 24, 24),\n",
       "   (1, 0, 1),\n",
       "   (2, 0, 2),\n",
       "   (3, 0, 3),\n",
       "   (3, 4, 5),\n",
       "   (4, 0, 4),\n",
       "   (4, 3, 5),\n",
       "   (5, 0, 5),\n",
       "   (5, 12, 13),\n",
       "   (6, 0, 6),\n",
       "   (6, 8, 10),\n",
       "   (7, 0, 7),\n",
       "   (8, 0, 8),\n",
       "   (8, 6, 10),\n",
       "   (8, 15, 17),\n",
       "   (9, 0, 9),\n",
       "   (9, 12, 15),\n",
       "   (10, 0, 10),\n",
       "   (11, 0, 11),\n",
       "   (12, 0, 12),\n",
       "   (12, 5, 13),\n",
       "   (12, 9, 15),\n",
       "   (12, 16, 20),\n",
       "   (13, 0, 13),\n",
       "   (14, 0, 14),\n",
       "   (15, 0, 15),\n",
       "   (15, 8, 17),\n",
       "   (16, 0, 16),\n",
       "   (16, 12, 20),\n",
       "   (17, 0, 17),\n",
       "   (18, 0, 18),\n",
       "   (19, 0, 19),\n",
       "   (20, 0, 20),\n",
       "   (21, 0, 21),\n",
       "   (22, 0, 22),\n",
       "   (23, 0, 23),\n",
       "   (24, 0, 24)],\n",
       "  38: {(0, 0, 0),\n",
       "   (0, 1, 1),\n",
       "   (0, 2, 2),\n",
       "   (0, 3, 3),\n",
       "   (0, 4, 4),\n",
       "   (0, 5, 5),\n",
       "   (0, 6, 6),\n",
       "   (0, 7, 7),\n",
       "   (0, 8, 8),\n",
       "   (0, 9, 9),\n",
       "   (0, 10, 10),\n",
       "   (0, 11, 11),\n",
       "   (0, 12, 12),\n",
       "   (0, 13, 13),\n",
       "   (0, 14, 14),\n",
       "   (0, 15, 15),\n",
       "   (0, 16, 16),\n",
       "   (0, 17, 17),\n",
       "   (0, 18, 18),\n",
       "   (0, 19, 19),\n",
       "   (0, 20, 20),\n",
       "   (0, 21, 21),\n",
       "   (0, 22, 22),\n",
       "   (0, 23, 23),\n",
       "   (0, 24, 24),\n",
       "   (1, 0, 1),\n",
       "   (2, 0, 2),\n",
       "   (3, 0, 3),\n",
       "   (3, 4, 5),\n",
       "   (4, 0, 4),\n",
       "   (4, 3, 5),\n",
       "   (5, 0, 5),\n",
       "   (5, 12, 13),\n",
       "   (6, 0, 6),\n",
       "   (6, 8, 10),\n",
       "   (7, 0, 7),\n",
       "   (8, 0, 8),\n",
       "   (8, 6, 10),\n",
       "   (8, 15, 17),\n",
       "   (9, 0, 9),\n",
       "   (9, 12, 15),\n",
       "   (10, 0, 10),\n",
       "   (11, 0, 11),\n",
       "   (12, 0, 12),\n",
       "   (12, 5, 13),\n",
       "   (12, 9, 15),\n",
       "   (12, 16, 20),\n",
       "   (13, 0, 13),\n",
       "   (14, 0, 14),\n",
       "   (15, 0, 15),\n",
       "   (15, 8, 17),\n",
       "   (16, 0, 16),\n",
       "   (16, 12, 20),\n",
       "   (17, 0, 17),\n",
       "   (18, 0, 18),\n",
       "   (19, 0, 19),\n",
       "   (20, 0, 20),\n",
       "   (21, 0, 21),\n",
       "   (22, 0, 22),\n",
       "   (23, 0, 23),\n",
       "   (24, 0, 24)},\n",
       "  40: {(3, 4, 5),\n",
       "   (5, 12, 13),\n",
       "   (6, 8, 10),\n",
       "   (8, 15, 17),\n",
       "   (9, 12, 15),\n",
       "   (12, 16, 20)},\n",
       "  45: dict_items([('a', 1), ('b', 2), ('c', 3)]),\n",
       "  50: True,\n",
       "  51: 1,\n",
       "  58: [1, 2, 3],\n",
       "  59: {...}},\n",
       " 'get_ipython': <bound method InteractiveShell.get_ipython of <ipykernel.zmqshell.ZMQInteractiveShell object at 0x0000018D3F646F08>>,\n",
       " 'exit': <IPython.core.autocall.ZMQExitAutocall at 0x18d3f683d88>,\n",
       " 'quit': <IPython.core.autocall.ZMQExitAutocall at 0x18d3f683d88>,\n",
       " '_': {...},\n",
       " '__': [1, 2, 3],\n",
       " '___': 1,\n",
       " '_i': 'globals()',\n",
       " '_ii': 'lst = list(a.values())\\nlst.sort()\\nlst',\n",
       " '_iii': 'lst = list(a.values())\\nlst.sort()',\n",
       " '_i1': 'lst = [9, 5, 8, 6]\\nlst = lst.sorted(key = lambda x: 1/x)\\nprint(lst)',\n",
       " 'lst': [1, 2, 3],\n",
       " '_i2': 'lst = [9, 5, 8, 6]\\nlst = lst.sort(key = lambda x: 1/x)\\nprint(lst)',\n",
       " '_i3': 'lst = [9, 5, 8, 6]\\n\\nprint(lst.sort(key = lambda x: 1/x))',\n",
       " '_i4': 'lst = [9, 5, 8, 6]\\nlst.sort(key = lambda x: 1/x)\\n\\nprint(lst)',\n",
       " '_i5': 'sorted(key = lambda x: x, lst)',\n",
       " '_i6': 'sorted(lst, key = lambda x: x)',\n",
       " '_6': [5, 6, 8, 9],\n",
       " '_i7': 'x = [0, 1, 2, 3, 4, 5, 6]\\nx[0:5:2]',\n",
       " 'x': 1,\n",
       " '_7': [0, 2, 4],\n",
       " '_i8': 'range(5)',\n",
       " '_8': range(0, 5),\n",
       " '_i9': 'a = range(5)\\na',\n",
       " 'a': {'a': 1, 'b': 2, 'c': 3},\n",
       " '_9': range(0, 5),\n",
       " '_i10': 'a = range(5)\\na[1]',\n",
       " '_10': 1,\n",
       " '_i11': 'a = range(1,5,2)\\na',\n",
       " '_11': range(1, 5, 2),\n",
       " '_i12': 'a = range(1,5,2)\\n\\nfor i in a:\\n    print(i)',\n",
       " 'i': 3,\n",
       " '_i13': 'x[::-1]',\n",
       " '_13': [6, 5, 4, 3, 2, 1, 0],\n",
       " '_i14': 'x = [0, 1, [2]]\\nx[2][0] = 3\\nprint(x)\\nx[2].append(4)\\nprint(x)\\nx[2] = 2\\nprint(x)',\n",
       " '_i15': '# Global Variable\\nx = 2 \\ndef f(a):\\n    # Local Variable\\n    x = a * a \\n    return x\\ny = f(3)\\nprint (x, y)',\n",
       " 'f': <function __main__.f()>,\n",
       " 'y': 6,\n",
       " '_i16': \"# Global Variable\\nx = 2 \\ndef f(a):\\n    # Function uses value of 'global' variable as local copy is not present \\n    y = x * a \\n    return y\\ny = f(3)\\nprint (x, y)\",\n",
       " '_i17': 'x = 1\\ndef f():\\n    y = x\\n    x = 2\\n    return x + y\\nprint(x)\\nprint(f())\\nprint(x)',\n",
       " '_i18': 'class Dog:\\n    # Class attribute\\n    species = \"Canis familiaris\"\\n\\n    def __init__(self, name, age):\\n        self.name = name\\n        self.age = age\\n\\na = Dog(\\'Rocky\\', 25)\\nb = Dog(\\'Kanu\\', 26)\\n\\nprint(a == b)\\nprint(type(a) == type(b))',\n",
       " 'Dog': __main__.Dog,\n",
       " 'b': [1, 2, 3],\n",
       " '_i19': 'names = [\"a\", \"b\", \"c\"]\\nvalues = [1, 2, 3]\\nfor name, value in zip(names, values):\\n    print(name, value)',\n",
       " 'names': ['a', 'b', 'c'],\n",
       " 'values': [1, 2, 3],\n",
       " 'name': 'c',\n",
       " 'value': 3,\n",
       " '_i20': 'type(names)',\n",
       " '_20': list,\n",
       " '_i21': 'type(zip(names, values))',\n",
       " '_21': zip,\n",
       " '_i22': 'zipped = zip(names, values)',\n",
       " 'zipped': <zip at 0x18d3f783848>,\n",
       " '_i23': 'zipped = zip(names, values)\\ntype(zipped)',\n",
       " '_23': zip,\n",
       " '_i24': 'zipped[0]',\n",
       " '_i25': 'a, b = zipped',\n",
       " '_i26': 'a, b, c = zipped',\n",
       " '_i27': 'for i in (1, 2, 3):\\n    print(i)',\n",
       " '_i28': 'for i in {1, 2, 3}:\\n    print(i)',\n",
       " '_i29': '\"hell\" in \"hello\"',\n",
       " '_29': True,\n",
       " '_i30': 'lst = range(0, 10)\\ncopy_lst = [x in lst]',\n",
       " 'copy_lst': [0, 1, 2, 3, 4, 5, 6, 7, 8, 9],\n",
       " '_i31': 'copy_lst',\n",
       " '_31': [True],\n",
       " '_i32': 'lst = range(0, 10)\\ncopy_lst = [x for x in lst]',\n",
       " '_i33': 'copy_lst',\n",
       " '_33': [0, 1, 2, 3, 4, 5, 6, 7, 8, 9],\n",
       " '_i34': 'lst = range(0, 25)\\npy_tri = [(x, y, z) for x in lst for y in lst for z in lst if x*x + y*y == z*z]',\n",
       " 'py_tri': [(3, 4, 5),\n",
       "  (5, 12, 13),\n",
       "  (6, 8, 10),\n",
       "  (8, 15, 17),\n",
       "  (9, 12, 15),\n",
       "  (12, 16, 20)],\n",
       " '_i35': 'py_tri',\n",
       " '_35': [(0, 0, 0),\n",
       "  (0, 1, 1),\n",
       "  (0, 2, 2),\n",
       "  (0, 3, 3),\n",
       "  (0, 4, 4),\n",
       "  (0, 5, 5),\n",
       "  (0, 6, 6),\n",
       "  (0, 7, 7),\n",
       "  (0, 8, 8),\n",
       "  (0, 9, 9),\n",
       "  (0, 10, 10),\n",
       "  (0, 11, 11),\n",
       "  (0, 12, 12),\n",
       "  (0, 13, 13),\n",
       "  (0, 14, 14),\n",
       "  (0, 15, 15),\n",
       "  (0, 16, 16),\n",
       "  (0, 17, 17),\n",
       "  (0, 18, 18),\n",
       "  (0, 19, 19),\n",
       "  (0, 20, 20),\n",
       "  (0, 21, 21),\n",
       "  (0, 22, 22),\n",
       "  (0, 23, 23),\n",
       "  (0, 24, 24),\n",
       "  (1, 0, 1),\n",
       "  (2, 0, 2),\n",
       "  (3, 0, 3),\n",
       "  (3, 4, 5),\n",
       "  (4, 0, 4),\n",
       "  (4, 3, 5),\n",
       "  (5, 0, 5),\n",
       "  (5, 12, 13),\n",
       "  (6, 0, 6),\n",
       "  (6, 8, 10),\n",
       "  (7, 0, 7),\n",
       "  (8, 0, 8),\n",
       "  (8, 6, 10),\n",
       "  (8, 15, 17),\n",
       "  (9, 0, 9),\n",
       "  (9, 12, 15),\n",
       "  (10, 0, 10),\n",
       "  (11, 0, 11),\n",
       "  (12, 0, 12),\n",
       "  (12, 5, 13),\n",
       "  (12, 9, 15),\n",
       "  (12, 16, 20),\n",
       "  (13, 0, 13),\n",
       "  (14, 0, 14),\n",
       "  (15, 0, 15),\n",
       "  (15, 8, 17),\n",
       "  (16, 0, 16),\n",
       "  (16, 12, 20),\n",
       "  (17, 0, 17),\n",
       "  (18, 0, 18),\n",
       "  (19, 0, 19),\n",
       "  (20, 0, 20),\n",
       "  (21, 0, 21),\n",
       "  (22, 0, 22),\n",
       "  (23, 0, 23),\n",
       "  (24, 0, 24)],\n",
       " '_i36': 'py_tri.unique()',\n",
       " '_i37': 'unique(py_tri)',\n",
       " '_i38': 'set(py_tri)',\n",
       " '_38': {(0, 0, 0),\n",
       "  (0, 1, 1),\n",
       "  (0, 2, 2),\n",
       "  (0, 3, 3),\n",
       "  (0, 4, 4),\n",
       "  (0, 5, 5),\n",
       "  (0, 6, 6),\n",
       "  (0, 7, 7),\n",
       "  (0, 8, 8),\n",
       "  (0, 9, 9),\n",
       "  (0, 10, 10),\n",
       "  (0, 11, 11),\n",
       "  (0, 12, 12),\n",
       "  (0, 13, 13),\n",
       "  (0, 14, 14),\n",
       "  (0, 15, 15),\n",
       "  (0, 16, 16),\n",
       "  (0, 17, 17),\n",
       "  (0, 18, 18),\n",
       "  (0, 19, 19),\n",
       "  (0, 20, 20),\n",
       "  (0, 21, 21),\n",
       "  (0, 22, 22),\n",
       "  (0, 23, 23),\n",
       "  (0, 24, 24),\n",
       "  (1, 0, 1),\n",
       "  (2, 0, 2),\n",
       "  (3, 0, 3),\n",
       "  (3, 4, 5),\n",
       "  (4, 0, 4),\n",
       "  (4, 3, 5),\n",
       "  (5, 0, 5),\n",
       "  (5, 12, 13),\n",
       "  (6, 0, 6),\n",
       "  (6, 8, 10),\n",
       "  (7, 0, 7),\n",
       "  (8, 0, 8),\n",
       "  (8, 6, 10),\n",
       "  (8, 15, 17),\n",
       "  (9, 0, 9),\n",
       "  (9, 12, 15),\n",
       "  (10, 0, 10),\n",
       "  (11, 0, 11),\n",
       "  (12, 0, 12),\n",
       "  (12, 5, 13),\n",
       "  (12, 9, 15),\n",
       "  (12, 16, 20),\n",
       "  (13, 0, 13),\n",
       "  (14, 0, 14),\n",
       "  (15, 0, 15),\n",
       "  (15, 8, 17),\n",
       "  (16, 0, 16),\n",
       "  (16, 12, 20),\n",
       "  (17, 0, 17),\n",
       "  (18, 0, 18),\n",
       "  (19, 0, 19),\n",
       "  (20, 0, 20),\n",
       "  (21, 0, 21),\n",
       "  (22, 0, 22),\n",
       "  (23, 0, 23),\n",
       "  (24, 0, 24)},\n",
       " '_i39': 'py_tri = [(x, y, z) for x in range(1, 25) for y in range(x, 25) for z in range(y, 25) if x*x + y*y == z*z]',\n",
       " '_i40': 'set(py_tri)',\n",
       " '_40': {(3, 4, 5),\n",
       "  (5, 12, 13),\n",
       "  (6, 8, 10),\n",
       "  (8, 15, 17),\n",
       "  (9, 12, 15),\n",
       "  (12, 16, 20)},\n",
       " '_i41': \"a = ['a', 'b', 'c']\\nb = [1, 2, 3]\\n\\nc = [(x, y) for x in a for y in b]\\nprint(c)\",\n",
       " 'c': [('a', 1), ('b', 2), ('c', 3)],\n",
       " '_i42': \"a = ['a', 'b', 'c']\\nb = [1, 2, 3]\\n\\nc = [(x, y) for x, y in (a, b)]\\nprint(c)\",\n",
       " '_i43': \"a = ['a', 'b', 'c']\\nb = [1, 2, 3]\\n\\nc = [(x, y) for x, y in zip(a, b)]\\nprint(c)\",\n",
       " '_i44': \"a = {'a':1, 'b':2, 'c':3}\",\n",
       " '_i45': 'a.keys()\\na.values()\\na.items()',\n",
       " '_45': dict_items([('a', 1), ('b', 2), ('c', 3)]),\n",
       " '_i46': 'print(a.keys())\\nprint(a.values())\\nprint(a.items())',\n",
       " '_i47': 'for key, value in a.items():\\n    print(key, \":\", value)',\n",
       " 'key': 'c',\n",
       " '_i48': \"a.has_key('d')\",\n",
       " '_i49': \"a.has_key('b')\",\n",
       " '_i50': \"'a' in a\",\n",
       " '_50': True,\n",
       " '_i51': \"a.get('a')\",\n",
       " '_51': 1,\n",
       " '_i52': 'a.sort(key = lambda x: 1/x)',\n",
       " '_i53': 'a.sort(key = lambda x: 1/a.get(x))',\n",
       " '_i54': 'a.values().sort()',\n",
       " '_i55': 'lst = a.values()',\n",
       " '_i56': 'lst = a.values()\\nlst.sort()',\n",
       " '_i57': 'lst = list(a.values())\\nlst.sort()',\n",
       " '_i58': 'lst = list(a.values())\\nlst.sort()\\nlst',\n",
       " '_58': [1, 2, 3],\n",
       " '_i59': 'globals()',\n",
       " '_59': {...},\n",
       " '_i60': 'locals()'}"
      ]
     },
     "execution_count": 60,
     "metadata": {},
     "output_type": "execute_result"
    }
   ],
   "source": [
    "# All local variables\n",
    "locals()"
   ]
  },
  {
   "cell_type": "code",
   "execution_count": 69,
   "metadata": {
    "scrolled": true
   },
   "outputs": [
    {
     "name": "stdout",
     "output_type": "stream",
     "text": [
      "\n",
      "locals:  {'p': 5, 'q': 10, 'r': 15, 's': 75}\n"
     ]
    },
    {
     "data": {
      "text/plain": [
       "75"
      ]
     },
     "execution_count": 69,
     "metadata": {},
     "output_type": "execute_result"
    }
   ],
   "source": [
    "p = 5\n",
    "q = 10\n",
    "def func(p, q):\n",
    "    r = p + q\n",
    "    s = p * r\n",
    "    print(\"\\nlocals: \", locals())\n",
    "    return s\n",
    "\n",
    "func(p, q)"
   ]
  },
  {
   "cell_type": "markdown",
   "metadata": {},
   "source": [
    "### Iterables, Iterators, Generators and yield keyword"
   ]
  },
  {
   "cell_type": "markdown",
   "metadata": {},
   "source": [
    "**Iterables:** Any object which can be iterated \n",
    "**Iterators:** Iterators are the objects which follows **iterator protocol**\n",
    "    - **Iterator Protocol:** Iterator Protocol defines implementation of following guidelines for any iterator;\n",
    "        - An iterator object must implement __iter__() and __next__() methods for data access and traversal\n",
    "        - **StopIteration** statement/ exception implementation to terminate traversal\n",
    "**Generators:**\n",
    "    - Generators provide easy implementation to create **iterator** objects \n",
    "    - Generators do not store the complete set of values, but create them on the fly\n",
    "    - **yield** keyword is used to generate values of the iterator "
   ]
  },
  {
   "cell_type": "markdown",
   "metadata": {},
   "source": [
    "#### Create a generator to generate fibonacci series till N values "
   ]
  },
  {
   "cell_type": "code",
   "execution_count": 93,
   "metadata": {},
   "outputs": [],
   "source": [
    "def fibonacci_gen(N=10):\n",
    "    a0, a1 = 0, 1\n",
    "    yield a0\n",
    "    yield a1\n",
    "    for i in range(2, N):\n",
    "        an = a0 + a1\n",
    "        a0 = a1\n",
    "        a1 = an\n",
    "        yield an        "
   ]
  },
  {
   "cell_type": "code",
   "execution_count": 94,
   "metadata": {},
   "outputs": [],
   "source": [
    "a = fibonacci_gen()"
   ]
  },
  {
   "cell_type": "code",
   "execution_count": 95,
   "metadata": {},
   "outputs": [
    {
     "data": {
      "text/plain": [
       "<generator object fibonacci_gen at 0x000001AAE1C276C8>"
      ]
     },
     "execution_count": 95,
     "metadata": {},
     "output_type": "execute_result"
    }
   ],
   "source": [
    "a"
   ]
  },
  {
   "cell_type": "code",
   "execution_count": 98,
   "metadata": {},
   "outputs": [
    {
     "data": {
      "text/plain": [
       "0"
      ]
     },
     "execution_count": 98,
     "metadata": {},
     "output_type": "execute_result"
    }
   ],
   "source": [
    "next(a)"
   ]
  },
  {
   "cell_type": "code",
   "execution_count": 99,
   "metadata": {
    "scrolled": true
   },
   "outputs": [
    {
     "data": {
      "text/plain": [
       "1"
      ]
     },
     "execution_count": 99,
     "metadata": {},
     "output_type": "execute_result"
    }
   ],
   "source": [
    "next(a)"
   ]
  },
  {
   "cell_type": "code",
   "execution_count": 102,
   "metadata": {},
   "outputs": [],
   "source": [
    "b = fibonacci_gen(12)"
   ]
  },
  {
   "cell_type": "code",
   "execution_count": 103,
   "metadata": {},
   "outputs": [
    {
     "name": "stdout",
     "output_type": "stream",
     "text": [
      "0\n",
      "1\n",
      "1\n",
      "2\n",
      "3\n",
      "5\n",
      "8\n",
      "13\n",
      "21\n",
      "34\n",
      "55\n",
      "89\n"
     ]
    },
    {
     "ename": "StopIteration",
     "evalue": "",
     "output_type": "error",
     "traceback": [
      "\u001b[1;31m---------------------------------------------------------------------------\u001b[0m",
      "\u001b[1;31mStopIteration\u001b[0m                             Traceback (most recent call last)",
      "\u001b[1;32m<ipython-input-103-ffa62759d334>\u001b[0m in \u001b[0;36m<module>\u001b[1;34m\u001b[0m\n\u001b[0;32m      1\u001b[0m \u001b[1;32mfor\u001b[0m \u001b[0mi\u001b[0m \u001b[1;32min\u001b[0m \u001b[0mrange\u001b[0m\u001b[1;33m(\u001b[0m\u001b[1;36m13\u001b[0m\u001b[1;33m)\u001b[0m\u001b[1;33m:\u001b[0m\u001b[1;33m\u001b[0m\u001b[1;33m\u001b[0m\u001b[0m\n\u001b[1;32m----> 2\u001b[1;33m     \u001b[0mprint\u001b[0m\u001b[1;33m(\u001b[0m\u001b[0mnext\u001b[0m\u001b[1;33m(\u001b[0m\u001b[0mb\u001b[0m\u001b[1;33m)\u001b[0m\u001b[1;33m)\u001b[0m\u001b[1;33m\u001b[0m\u001b[1;33m\u001b[0m\u001b[0m\n\u001b[0m",
      "\u001b[1;31mStopIteration\u001b[0m: "
     ]
    }
   ],
   "source": [
    "for i in range(13):\n",
    "    print(next(b))"
   ]
  }
 ],
 "metadata": {
  "kernelspec": {
   "display_name": "Python 3",
   "language": "python",
   "name": "python3"
  },
  "language_info": {
   "codemirror_mode": {
    "name": "ipython",
    "version": 3
   },
   "file_extension": ".py",
   "mimetype": "text/x-python",
   "name": "python",
   "nbconvert_exporter": "python",
   "pygments_lexer": "ipython3",
   "version": "3.7.6"
  }
 },
 "nbformat": 4,
 "nbformat_minor": 4
}
