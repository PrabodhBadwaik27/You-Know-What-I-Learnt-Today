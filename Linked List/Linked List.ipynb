{
 "cells": [
  {
   "cell_type": "code",
   "execution_count": 106,
   "metadata": {},
   "outputs": [
    {
     "name": "stdout",
     "output_type": "stream",
     "text": [
      "1  2  3  4  "
     ]
    }
   ],
   "source": [
    "class LinkedList:    \n",
    "    def __init__(self):\n",
    "        self.head = None\n",
    "        self.tail = None\n",
    "    \n",
    "    class Node:        \n",
    "        def __init__(self, value):\n",
    "            self.data = value\n",
    "            self.next = None\n",
    "    \n",
    "    def newNode(self, value):\n",
    "        self.node = Node(value)\n",
    "        \n",
    "        if self.head is not None:\n",
    "            self.tail.next = self.node\n",
    "            self.tail = self.node\n",
    "        else:\n",
    "            self.head = self.node\n",
    "            self.tail = self.node\n",
    "            \n",
    "    def printList(self):\n",
    "        current = self.head;\n",
    "        \n",
    "        while current is not None:\n",
    "            print(current.data, end=\"  \")\n",
    "            current = current.next;\n",
    "            \n",
    "#    def printReverse(self, hd):\n",
    "#        if hd is not None:\n",
    "#            printReverse(hd.next)\n",
    "#        print(\"{}  \".format(hd.data))\n",
    "        \n",
    "    \n",
    "def main():\n",
    "    lnklst = LinkedList();\n",
    "    lnklst.newNode(1)\n",
    "    lnklst.newNode(2)\n",
    "    lnklst.newNode(3)\n",
    "    lnklst.newNode(4)\n",
    "    lnklst.printList()\n",
    "    \n",
    "#    print()\n",
    "#    lnklst.printReverse(lnklst.head)\n",
    "\n",
    "if __name__ == \"__main__\":\n",
    "    main()"
   ]
  }
 ],
 "metadata": {
  "kernelspec": {
   "display_name": "Python 3",
   "language": "python",
   "name": "python3"
  },
  "language_info": {
   "codemirror_mode": {
    "name": "ipython",
    "version": 3
   },
   "file_extension": ".py",
   "mimetype": "text/x-python",
   "name": "python",
   "nbconvert_exporter": "python",
   "pygments_lexer": "ipython3",
   "version": "3.7.6"
  }
 },
 "nbformat": 4,
 "nbformat_minor": 4
}
