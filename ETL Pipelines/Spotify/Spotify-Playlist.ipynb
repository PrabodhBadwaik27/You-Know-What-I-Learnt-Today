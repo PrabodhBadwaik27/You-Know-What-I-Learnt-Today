{
 "cells": [
  {
   "cell_type": "code",
   "execution_count": 1,
   "source": [
    "import requests as req\r\n",
    "import datetime\r\n",
    "import pyodbc"
   ],
   "outputs": [],
   "metadata": {}
  },
  {
   "cell_type": "markdown",
   "source": [
    "### Using: Client Credentials Flow"
   ],
   "metadata": {}
  },
  {
   "cell_type": "code",
   "execution_count": 2,
   "source": [
    "client_id = \"YOUR-CLIENT-ID\"\r\n",
    "client_secret = \"CLIENT-SECRET-KEY\""
   ],
   "outputs": [],
   "metadata": {}
  },
  {
   "cell_type": "code",
   "execution_count": 3,
   "source": [
    "data = {\r\n",
    "    'grant_type': 'client_credentials',\r\n",
    "    'client_id': client_id,\r\n",
    "    'client_secret': client_secret    \r\n",
    "}"
   ],
   "outputs": [],
   "metadata": {}
  },
  {
   "cell_type": "code",
   "execution_count": 4,
   "source": [
    "# First Call to generate 'Access Token'\r\n",
    "token = req.post('https://accounts.spotify.com/api/token', data=data)"
   ],
   "outputs": [],
   "metadata": {}
  },
  {
   "cell_type": "code",
   "execution_count": 6,
   "source": [
    "access_token = token.json()['access_token']"
   ],
   "outputs": [],
   "metadata": {}
  },
  {
   "cell_type": "code",
   "execution_count": 7,
   "source": [
    "header = {\r\n",
    "    'Authorization': 'Bearer {0}'.format(access_token)\r\n",
    "}"
   ],
   "outputs": [],
   "metadata": {}
  },
  {
   "cell_type": "code",
   "execution_count": 8,
   "source": [
    "response = req.get('https://api.spotify.com/v1/browse/new-releases?limit=50', headers=header)"
   ],
   "outputs": [],
   "metadata": {}
  },
  {
   "cell_type": "code",
   "execution_count": 35,
   "source": [
    "response.json()"
   ],
   "outputs": [
    {
     "output_type": "execute_result",
     "data": {
      "text/plain": [
       "{'error': {'status': 401, 'message': 'The access token expired'}}"
      ]
     },
     "metadata": {},
     "execution_count": 35
    }
   ],
   "metadata": {}
  },
  {
   "cell_type": "code",
   "execution_count": 9,
   "source": [
    "json_response = response.json()"
   ],
   "outputs": [],
   "metadata": {}
  },
  {
   "cell_type": "code",
   "execution_count": 11,
   "source": [
    "new_release = json_response['albums']['items']"
   ],
   "outputs": [],
   "metadata": {}
  },
  {
   "cell_type": "code",
   "execution_count": 13,
   "source": [
    "driver = \"{SQL-ENGINE}\"\r\n",
    "server = \".\\SQL-SERVER-NAME\"\r\n",
    "database = \"SQL-DATABASE\""
   ],
   "outputs": [],
   "metadata": {}
  },
  {
   "cell_type": "code",
   "execution_count": 27,
   "source": [
    "cnxn = pyodbc.connect('DRIVER={0};SERVER={1};DATABASE={2}'.format(driver, server, database))"
   ],
   "outputs": [],
   "metadata": {}
  },
  {
   "cell_type": "code",
   "execution_count": 28,
   "source": [
    "album_cursor = cnxn.cursor()\r\n",
    "artist_cursor = cnxn.cursor()"
   ],
   "outputs": [],
   "metadata": {}
  },
  {
   "cell_type": "code",
   "execution_count": 29,
   "source": [
    "released_artists = []\r\n",
    "\r\n",
    "for item in new_release:\r\n",
    "    album_id = str(item['id'])\r\n",
    "    album_name = str(item['name'])\r\n",
    "    album_type = str(item['album_type'])\r\n",
    "    album_release_date = datetime.datetime.strptime(item['release_date'], '%Y-%m-%d')\r\n",
    "    album_total_tracks = item['total_tracks']\r\n",
    "    album_total_artists = len(item['artists'])\r\n",
    "    \r\n",
    "    album_cursor.execute('INSERT INTO RecentlyReleasedAlbums (id, album, album_type, release_date, total_tracks, total_artists) VALUES (?, ?, ?, ?, ?, ?)', album_id, album_name, album_type, album_release_date, album_total_tracks, album_total_artists)\r\n",
    "    \r\n",
    "    for artist in item['artists']:\r\n",
    "        if artist['id'] not in released_artists:\r\n",
    "            released_artists.append(artist['id'])\r\n",
    "            \r\n",
    "            artist_id = str(artist['id'])\r\n",
    "            artist_name = str(artist['name']) \r\n",
    "            artist_type = str(artist['type']) \r\n",
    "            \r\n",
    "            artist_cursor.execute('INSERT INTO RecentlyReleasedArtists (id, artist, artist_type) VALUES (?, ?, ?)', artist_id, artist_name, artist_type)"
   ],
   "outputs": [],
   "metadata": {}
  },
  {
   "cell_type": "code",
   "execution_count": 30,
   "source": [
    "cnxn.commit()\r\n",
    "cnxn.close()"
   ],
   "outputs": [],
   "metadata": {}
  }
 ],
 "metadata": {
  "kernelspec": {
   "display_name": "Python 3",
   "language": "python",
   "name": "python3"
  },
  "language_info": {
   "codemirror_mode": {
    "name": "ipython",
    "version": 3
   },
   "file_extension": ".py",
   "mimetype": "text/x-python",
   "name": "python",
   "nbconvert_exporter": "python",
   "pygments_lexer": "ipython3",
   "version": "3.7.6"
  }
 },
 "nbformat": 4,
 "nbformat_minor": 4
}